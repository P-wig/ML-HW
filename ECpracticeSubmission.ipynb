{
 "cells": [
  {
   "cell_type": "markdown",
   "metadata": {},
   "source": [
    "# HW 0 (Practice Mode)\n",
    "\n",
    "Canvas assignment [link](https://canvas.txstate.edu/courses/2237214/assignments/32669170) for submission and due date. \n",
    "\n",
    "Objective: \n",
    "* familiarize with the use of basic functions in python packages\n",
    "* familiarize with the use of python notebook: compile all cells to show results\n",
    "\n",
    "Assessment: \n",
    "* successful run of the Markdown and Python notebook cells.\n",
    "* succesfull submission on git [link](https://git.txstate.edu/NetID) by the due date.\n",
    "\n",
    "Keep the following in mind for **all** notebooks you develop:\n",
    "\n",
    "1. Structure your notebook. Use headings with meaningful levels in Markdown cells, and explain the questions each piece of code is to answer or the reason it is there.\n",
    "2. Make sure your notebook can always be rerun from top to bottom.\n",
    "3. **DO NOT** erase notebook cells provided.  \n"
   ]
  },
  {
   "cell_type": "markdown",
   "metadata": {},
   "source": [
    "## Setup\n",
    "\n",
    "This section loads the relevant Python modules and does any configuration needed for the notebook to work. \n",
    "\n",
    "Lets import python packages we will use in this homework: \n",
    "* [numpy](https://numpy.org/) - scientific computing package\n",
    "* [pandas](https://pandas.pydata.org/) - python data analysis package\n",
    "* [seaborn](https://seaborn.pydata.org/) - statistical data visualization package"
   ]
  },
  {
   "cell_type": "code",
   "execution_count": 1,
   "metadata": {},
   "outputs": [],
   "source": [
    "import numpy as np\n",
    "import pandas as pd\n",
    "import seaborn as sns"
   ]
  },
  {
   "cell_type": "markdown",
   "metadata": {},
   "source": [
    "##  Introduction to Pandas\n",
    "In this chapter you will use pandas commands"
   ]
  },
  {
   "cell_type": "markdown",
   "metadata": {},
   "source": [
    "**Q1:** Read the data file using Pandas. **Note** When we run your experiment to test for correctness, we assume that the day.csv is in the ../data/ folder relative to your HW1.ipynb. \n",
    "\n",
    "1.  **Download the Capital Bike Share data set** from <https://archive.ics.uci.edu/ml/datasets/bike+sharing+dataset>.  Click 'Data Folder', download the zip file, and extract the `day.csv` file.\n",
    "  * get used to downloading data files and saving them to correct hierarchy.\n",
    "  * big part of projct and source versioning practice\n",
    "  \n",
    "2. Read the Data File: use Pandas [read_csv](https://pandas.pydata.org/pandas-docs/stable/reference/api/pandas.read_csv.html)[] function to read the file into `bikes` dataframe.  \n",
    "   * Our data file does not have column headers, so we need to specify the names.\n",
    "   [read_csv]: https://pandas.pydata.org/pandas-docs/stable/reference/api/pandas.read_csv.html"
   ]
  },
  {
   "cell_type": "markdown",
   "metadata": {},
   "source": [
    "**A1** Replace the ? mark with your answer in the python cell below. "
   ]
  },
  {
   "cell_type": "code",
   "execution_count": 4,
   "metadata": {},
   "outputs": [],
   "source": [
    "bikes = pd.read_csv(\"data/day.csv\", header = None)"
   ]
  },
  {
   "cell_type": "markdown",
   "metadata": {},
   "source": [
    "**Q2:**\n",
    " Use `head` to show the first few rows of the table: \n",
    "* brief preview is a safety check you are exploring the correct data frame \n",
    "\n",
    "**A2**\n",
    "Replace the ? mark with your answer"
   ]
  },
  {
   "cell_type": "code",
   "execution_count": 6,
   "metadata": {},
   "outputs": [
    {
     "data": {
      "text/html": [
       "<div>\n",
       "<style scoped>\n",
       "    .dataframe tbody tr th:only-of-type {\n",
       "        vertical-align: middle;\n",
       "    }\n",
       "\n",
       "    .dataframe tbody tr th {\n",
       "        vertical-align: top;\n",
       "    }\n",
       "\n",
       "    .dataframe thead th {\n",
       "        text-align: right;\n",
       "    }\n",
       "</style>\n",
       "<table border=\"1\" class=\"dataframe\">\n",
       "  <thead>\n",
       "    <tr style=\"text-align: right;\">\n",
       "      <th></th>\n",
       "      <th>0</th>\n",
       "      <th>1</th>\n",
       "      <th>2</th>\n",
       "      <th>3</th>\n",
       "      <th>4</th>\n",
       "      <th>5</th>\n",
       "      <th>6</th>\n",
       "      <th>7</th>\n",
       "      <th>8</th>\n",
       "      <th>9</th>\n",
       "      <th>10</th>\n",
       "      <th>11</th>\n",
       "      <th>12</th>\n",
       "      <th>13</th>\n",
       "      <th>14</th>\n",
       "      <th>15</th>\n",
       "    </tr>\n",
       "  </thead>\n",
       "  <tbody>\n",
       "    <tr>\n",
       "      <th>0</th>\n",
       "      <td>instant</td>\n",
       "      <td>dteday</td>\n",
       "      <td>season</td>\n",
       "      <td>yr</td>\n",
       "      <td>mnth</td>\n",
       "      <td>holiday</td>\n",
       "      <td>weekday</td>\n",
       "      <td>workingday</td>\n",
       "      <td>weathersit</td>\n",
       "      <td>temp</td>\n",
       "      <td>atemp</td>\n",
       "      <td>hum</td>\n",
       "      <td>windspeed</td>\n",
       "      <td>casual</td>\n",
       "      <td>registered</td>\n",
       "      <td>cnt</td>\n",
       "    </tr>\n",
       "    <tr>\n",
       "      <th>1</th>\n",
       "      <td>1</td>\n",
       "      <td>2011-01-01</td>\n",
       "      <td>1</td>\n",
       "      <td>0</td>\n",
       "      <td>1</td>\n",
       "      <td>0</td>\n",
       "      <td>6</td>\n",
       "      <td>0</td>\n",
       "      <td>2</td>\n",
       "      <td>0.344167</td>\n",
       "      <td>0.363625</td>\n",
       "      <td>0.805833</td>\n",
       "      <td>0.160446</td>\n",
       "      <td>331</td>\n",
       "      <td>654</td>\n",
       "      <td>985</td>\n",
       "    </tr>\n",
       "    <tr>\n",
       "      <th>2</th>\n",
       "      <td>2</td>\n",
       "      <td>2011-01-02</td>\n",
       "      <td>1</td>\n",
       "      <td>0</td>\n",
       "      <td>1</td>\n",
       "      <td>0</td>\n",
       "      <td>0</td>\n",
       "      <td>0</td>\n",
       "      <td>2</td>\n",
       "      <td>0.363478</td>\n",
       "      <td>0.353739</td>\n",
       "      <td>0.696087</td>\n",
       "      <td>0.248539</td>\n",
       "      <td>131</td>\n",
       "      <td>670</td>\n",
       "      <td>801</td>\n",
       "    </tr>\n",
       "    <tr>\n",
       "      <th>3</th>\n",
       "      <td>3</td>\n",
       "      <td>2011-01-03</td>\n",
       "      <td>1</td>\n",
       "      <td>0</td>\n",
       "      <td>1</td>\n",
       "      <td>0</td>\n",
       "      <td>1</td>\n",
       "      <td>1</td>\n",
       "      <td>1</td>\n",
       "      <td>0.196364</td>\n",
       "      <td>0.189405</td>\n",
       "      <td>0.437273</td>\n",
       "      <td>0.248309</td>\n",
       "      <td>120</td>\n",
       "      <td>1229</td>\n",
       "      <td>1349</td>\n",
       "    </tr>\n",
       "    <tr>\n",
       "      <th>4</th>\n",
       "      <td>4</td>\n",
       "      <td>2011-01-04</td>\n",
       "      <td>1</td>\n",
       "      <td>0</td>\n",
       "      <td>1</td>\n",
       "      <td>0</td>\n",
       "      <td>2</td>\n",
       "      <td>1</td>\n",
       "      <td>1</td>\n",
       "      <td>0.2</td>\n",
       "      <td>0.212122</td>\n",
       "      <td>0.590435</td>\n",
       "      <td>0.160296</td>\n",
       "      <td>108</td>\n",
       "      <td>1454</td>\n",
       "      <td>1562</td>\n",
       "    </tr>\n",
       "  </tbody>\n",
       "</table>\n",
       "</div>"
      ],
      "text/plain": [
       "        0           1       2   3     4        5        6           7   \\\n",
       "0  instant      dteday  season  yr  mnth  holiday  weekday  workingday   \n",
       "1        1  2011-01-01       1   0     1        0        6           0   \n",
       "2        2  2011-01-02       1   0     1        0        0           0   \n",
       "3        3  2011-01-03       1   0     1        0        1           1   \n",
       "4        4  2011-01-04       1   0     1        0        2           1   \n",
       "\n",
       "           8         9         10        11         12      13          14  \\\n",
       "0  weathersit      temp     atemp       hum  windspeed  casual  registered   \n",
       "1           2  0.344167  0.363625  0.805833   0.160446     331         654   \n",
       "2           2  0.363478  0.353739  0.696087   0.248539     131         670   \n",
       "3           1  0.196364  0.189405  0.437273   0.248309     120        1229   \n",
       "4           1       0.2  0.212122  0.590435   0.160296     108        1454   \n",
       "\n",
       "     15  \n",
       "0   cnt  \n",
       "1   985  \n",
       "2   801  \n",
       "3  1349  \n",
       "4  1562  "
      ]
     },
     "execution_count": 6,
     "metadata": {},
     "output_type": "execute_result"
    }
   ],
   "source": [
    "bikes.head()"
   ]
  },
  {
   "cell_type": "markdown",
   "metadata": {},
   "source": [
    "**Q3:**  Use `info` to show a description of the columns, along with the shape and memory use of the data frame:\n",
    "* `.info()` or `.head()` can be called in the same cell as data load \n",
    "* we separate them out in this notebook so that we can discuss them in the markdown cells, but we can combine them in the future. \n",
    "\n",
    "**A3** Replace the ? mark with your answer in the python cell below"
   ]
  },
  {
   "cell_type": "code",
   "execution_count": 8,
   "metadata": {},
   "outputs": [
    {
     "name": "stdout",
     "output_type": "stream",
     "text": [
      "<class 'pandas.core.frame.DataFrame'>\n",
      "RangeIndex: 732 entries, 0 to 731\n",
      "Data columns (total 16 columns):\n",
      " #   Column  Non-Null Count  Dtype \n",
      "---  ------  --------------  ----- \n",
      " 0   0       732 non-null    object\n",
      " 1   1       732 non-null    object\n",
      " 2   2       732 non-null    object\n",
      " 3   3       732 non-null    object\n",
      " 4   4       732 non-null    object\n",
      " 5   5       732 non-null    object\n",
      " 6   6       732 non-null    object\n",
      " 7   7       732 non-null    object\n",
      " 8   8       732 non-null    object\n",
      " 9   9       732 non-null    object\n",
      " 10  10      732 non-null    object\n",
      " 11  11      732 non-null    object\n",
      " 12  12      732 non-null    object\n",
      " 13  13      732 non-null    object\n",
      " 14  14      732 non-null    object\n",
      " 15  15      732 non-null    object\n",
      "dtypes: object(16)\n",
      "memory usage: 91.6+ KB\n"
     ]
    }
   ],
   "source": [
    "bikes.info()"
   ]
  },
  {
   "cell_type": "markdown",
   "metadata": {},
   "source": [
    "**Q4:** Pandas provide a very useful function for exploring statistical properties of dataframe, and allow us to see data composition for numerical columns. Use pandas build-in function and show statistical information for columns.\n",
    "\n",
    "**A4:** Replace the ? mark with your answer in the python cell below"
   ]
  },
  {
   "cell_type": "code",
   "execution_count": 10,
   "metadata": {},
   "outputs": [
    {
     "data": {
      "text/html": [
       "<div>\n",
       "<style scoped>\n",
       "    .dataframe tbody tr th:only-of-type {\n",
       "        vertical-align: middle;\n",
       "    }\n",
       "\n",
       "    .dataframe tbody tr th {\n",
       "        vertical-align: top;\n",
       "    }\n",
       "\n",
       "    .dataframe thead th {\n",
       "        text-align: right;\n",
       "    }\n",
       "</style>\n",
       "<table border=\"1\" class=\"dataframe\">\n",
       "  <thead>\n",
       "    <tr style=\"text-align: right;\">\n",
       "      <th></th>\n",
       "      <th>0</th>\n",
       "      <th>1</th>\n",
       "      <th>2</th>\n",
       "      <th>3</th>\n",
       "      <th>4</th>\n",
       "      <th>5</th>\n",
       "      <th>6</th>\n",
       "      <th>7</th>\n",
       "      <th>8</th>\n",
       "      <th>9</th>\n",
       "      <th>10</th>\n",
       "      <th>11</th>\n",
       "      <th>12</th>\n",
       "      <th>13</th>\n",
       "      <th>14</th>\n",
       "      <th>15</th>\n",
       "    </tr>\n",
       "  </thead>\n",
       "  <tbody>\n",
       "    <tr>\n",
       "      <th>count</th>\n",
       "      <td>732</td>\n",
       "      <td>732</td>\n",
       "      <td>732</td>\n",
       "      <td>732</td>\n",
       "      <td>732</td>\n",
       "      <td>732</td>\n",
       "      <td>732</td>\n",
       "      <td>732</td>\n",
       "      <td>732</td>\n",
       "      <td>732</td>\n",
       "      <td>732</td>\n",
       "      <td>732</td>\n",
       "      <td>732</td>\n",
       "      <td>732</td>\n",
       "      <td>732</td>\n",
       "      <td>732</td>\n",
       "    </tr>\n",
       "    <tr>\n",
       "      <th>unique</th>\n",
       "      <td>732</td>\n",
       "      <td>732</td>\n",
       "      <td>5</td>\n",
       "      <td>3</td>\n",
       "      <td>13</td>\n",
       "      <td>3</td>\n",
       "      <td>8</td>\n",
       "      <td>3</td>\n",
       "      <td>4</td>\n",
       "      <td>500</td>\n",
       "      <td>691</td>\n",
       "      <td>596</td>\n",
       "      <td>651</td>\n",
       "      <td>607</td>\n",
       "      <td>680</td>\n",
       "      <td>697</td>\n",
       "    </tr>\n",
       "    <tr>\n",
       "      <th>top</th>\n",
       "      <td>instant</td>\n",
       "      <td>dteday</td>\n",
       "      <td>3</td>\n",
       "      <td>1</td>\n",
       "      <td>1</td>\n",
       "      <td>0</td>\n",
       "      <td>6</td>\n",
       "      <td>1</td>\n",
       "      <td>1</td>\n",
       "      <td>0.265833</td>\n",
       "      <td>0.654688</td>\n",
       "      <td>0.613333</td>\n",
       "      <td>0.134954</td>\n",
       "      <td>120</td>\n",
       "      <td>6248</td>\n",
       "      <td>6043</td>\n",
       "    </tr>\n",
       "    <tr>\n",
       "      <th>freq</th>\n",
       "      <td>1</td>\n",
       "      <td>1</td>\n",
       "      <td>188</td>\n",
       "      <td>366</td>\n",
       "      <td>62</td>\n",
       "      <td>710</td>\n",
       "      <td>105</td>\n",
       "      <td>500</td>\n",
       "      <td>463</td>\n",
       "      <td>5</td>\n",
       "      <td>4</td>\n",
       "      <td>4</td>\n",
       "      <td>3</td>\n",
       "      <td>4</td>\n",
       "      <td>3</td>\n",
       "      <td>2</td>\n",
       "    </tr>\n",
       "  </tbody>\n",
       "</table>\n",
       "</div>"
      ],
      "text/plain": [
       "             0       1    2    3    4    5    6    7    8         9   \\\n",
       "count       732     732  732  732  732  732  732  732  732       732   \n",
       "unique      732     732    5    3   13    3    8    3    4       500   \n",
       "top     instant  dteday    3    1    1    0    6    1    1  0.265833   \n",
       "freq          1       1  188  366   62  710  105  500  463         5   \n",
       "\n",
       "              10        11        12   13    14    15  \n",
       "count        732       732       732  732   732   732  \n",
       "unique       691       596       651  607   680   697  \n",
       "top     0.654688  0.613333  0.134954  120  6248  6043  \n",
       "freq           4         4         3    4     3     2  "
      ]
     },
     "execution_count": 10,
     "metadata": {},
     "output_type": "execute_result"
    }
   ],
   "source": [
    "bikes.describe()"
   ]
  },
  {
   "cell_type": "markdown",
   "metadata": {},
   "source": [
    "**Q5:** Use pandas functions for filtering the dataframe rows based on some column values. Find out number of rows where the value of the **temp** column is more than the average value of **temp** for the dataset.\n",
    "\n",
    "*Steps:*\n",
    "1. Find out the mean value of the temp column\n",
    "2. Filter the rows where temp is grater than the mean value\n",
    "3. Get the number of rows in the filtered dataframe.\n",
    "\n",
    "\n",
    "**A5:** Replace the ? mark with your answer in python cell below"
   ]
  },
  {
   "cell_type": "code",
   "execution_count": 116,
   "metadata": {},
   "outputs": [
    {
     "name": "stdout",
     "output_type": "stream",
     "text": [
      "367\n"
     ]
    }
   ],
   "source": [
    "mean_value = pd.to_numeric( bikes.iloc[:, 9], errors='coerce' ).mean()\n",
    "filtered_dataframe = bikes[ pd.to_numeric(bikes.iloc[:, 9], errors='coerce') > mean_value ]\n",
    "row_count = len( filtered_dataframe )\n",
    "\n",
    "print(row_count)"
   ]
  },
  {
   "cell_type": "markdown",
   "metadata": {},
   "source": [
    "## Numpy\n",
    "\n",
    "We now use Numpy for doing some mathematical calculation on the dataset."
   ]
  },
  {
   "cell_type": "markdown",
   "metadata": {},
   "source": [
    "**Q6:** Now, use numpy for working with below tasks\n",
    "1. At first convert the dataframe into a numpy array\n",
    "2. Print the shape of the numpy n-dimensional array\n",
    "3. select and print rows from *100 to 105*\n",
    "\n",
    "**A6:**\n",
    "Replace the ? mark with your answer"
   ]
  },
  {
   "cell_type": "code",
   "execution_count": 117,
   "metadata": {},
   "outputs": [
    {
     "name": "stdout",
     "output_type": "stream",
     "text": [
      "(732, 16)\n",
      "[['100' '2011-04-10' '2' '0' '4' '0' '0' '0' '2' '0.426667' '0.426737'\n",
      "  '0.8575' '0.146767' '1188' '1707' '2895']\n",
      " ['101' '2011-04-11' '2' '0' '4' '0' '1' '1' '2' '0.595652' '0.565217'\n",
      "  '0.716956' '0.324474' '855' '2493' '3348']\n",
      " ['102' '2011-04-12' '2' '0' '4' '0' '2' '1' '2' '0.5025' '0.493054'\n",
      "  '0.739167' '0.274879' '257' '1777' '2034']\n",
      " ['103' '2011-04-13' '2' '0' '4' '0' '3' '1' '2' '0.4125' '0.417283'\n",
      "  '0.819167' '0.250617' '209' '1953' '2162']\n",
      " ['104' '2011-04-14' '2' '0' '4' '0' '4' '1' '1' '0.4675' '0.462742'\n",
      "  '0.540417' '0.1107' '529' '2738' '3267']\n",
      " ['105' '2011-04-15' '2' '0' '4' '1' '5' '0' '1' '0.446667' '0.441913'\n",
      "  '0.67125' '0.226375' '642' '2484' '3126']]\n"
     ]
    }
   ],
   "source": [
    "num_array = bikes.to_numpy() # convert the dataframe\n",
    "print( num_array.shape ) #print the shape\n",
    "print( num_array[100:106] ) # print rows from 100 to 105"
   ]
  },
  {
   "cell_type": "markdown",
   "metadata": {},
   "source": [
    "**Q7:** Lets put it all together\n",
    "1. Create a new numpy array selecting column number  10 - 13.\n",
    "2. Sort the numpy array in ascending order based on the 2nd column of our new numpy array.\n",
    "3. Print first 5 rows of the sorted numpy array\n",
    "\n",
    "**A7:**\n",
    "Replace the ? mark with your answer in the cell below"
   ]
  },
  {
   "cell_type": "code",
   "execution_count": 118,
   "metadata": {},
   "outputs": [
    {
     "name": "stdout",
     "output_type": "stream",
     "text": [
      "[['0.385668' '0' '0.261877' '46']\n",
      " ['0.391404' '0.187917' '0.507463' '532']\n",
      " ['0.426129' '0.254167' '0.274871' '3252']\n",
      " ['0.492425' '0.275833' '0.232596' '2230']\n",
      " ['0.315654' '0.29' '0.187192' '531']]\n"
     ]
    }
   ],
   "source": [
    "new_array = num_array[:,10:14] #[row:row, col:col]\n",
    "\n",
    "sorted_array = new_array[ new_array[:, 1].argsort() ]\n",
    "\n",
    "print( sorted_array[0:5, :] )"
   ]
  },
  {
   "cell_type": "markdown",
   "metadata": {},
   "source": [
    "## Seaborn Plotting 1\n",
    "\n",
    "Seaborn package is used to plot the data.  For every question in this chapter use the **bikes dataframe** for answering the questions."
   ]
  },
  {
   "cell_type": "markdown",
   "metadata": {},
   "source": [
    "**Q8:**\n",
    "Make a bar plot showing the mean number of riders (y-axis) per weekday (x-axis) using seaborn [`catplot`](https://seaborn.pydata.org/generated/seaborn.catplot.html) method.\n",
    "\n",
    "**A8:**\n",
    "Replace the ? mark with your answer"
   ]
  },
  {
   "cell_type": "markdown",
   "metadata": {},
   "source": []
  },
  {
   "cell_type": "code",
   "execution_count": 119,
   "metadata": {},
   "outputs": [
    {
     "name": "stderr",
     "output_type": "stream",
     "text": [
      "c:\\Users\\Isaac\\anaconda3\\Lib\\site-packages\\seaborn\\axisgrid.py:118: UserWarning: The figure layout has changed to tight\n",
      "  self._figure.tight_layout(*args, **kwargs)\n"
     ]
    },
    {
     "data": {
      "image/png": "[encoded data removed]",
      "text/plain": [
       "<Figure size 500x500 with 1 Axes>"
      ]
     },
     "metadata": {},
     "output_type": "display_data"
    }
   ],
   "source": [
    "mean_riders = sns.catplot( bikes,  )"
   ]
  },
  {
   "cell_type": "markdown",
   "metadata": {},
   "source": [
    "**Analysis**\n",
    "\n",
    "The X-axis labels are not very helpful as day 0 is not clear. This is a question about how the data is _coded_. We'll talk more about data encoding next week. Unfortunately, the data documentation doesn't actually say how weekdays are coded!  But we can infer from the data in this case: first data point is January 1, 2011, which was a Saturday, coded as weekday 6; it then resets to 0 for the next day, and starts counting up. Often, we will not be able to infer the data encoding from the data itself - we need to consult the codebook or data set description. We got lucky this time.  But looking at the data can help us make sense of the codebook.\n",
    "\n",
    "_Lesson here is to always *look* at your data._"
   ]
  },
  {
   "cell_type": "markdown",
   "metadata": {},
   "source": [
    "**Q9:** Turn these weekday numbers into a _categorical_ variable so Pandas knows how to label them. \n",
    "Hint: use [pandas.Categorical.from_codes()](https://pandas.pydata.org/pandas-docs/stable/reference/api/pandas.Categorical.from_codes.html).\n",
    "\n",
    "**A9:**\n",
    "Replace the ? mark with your answer in the python cell below"
   ]
  },
  {
   "cell_type": "code",
   "execution_count": 120,
   "metadata": {},
   "outputs": [
    {
     "ename": "SyntaxError",
     "evalue": "invalid syntax (3895472177.py, line 1)",
     "output_type": "error",
     "traceback": [
      "\u001b[1;36m  Cell \u001b[1;32mIn[120], line 1\u001b[1;36m\u001b[0m\n\u001b[1;33m    codes = pd.CategoricalDtype(?)\u001b[0m\n\u001b[1;37m                                ^\u001b[0m\n\u001b[1;31mSyntaxError\u001b[0m\u001b[1;31m:\u001b[0m invalid syntax\n"
     ]
    }
   ],
   "source": [
    "codes = pd.CategoricalDtype(?)\n",
    "\n",
    "bikes['day_names'] = pd.Categorical.from_codes(?)\n",
    "bikes.head()"
   ]
  },
  {
   "cell_type": "markdown",
   "metadata": {},
   "source": [
    "**A10:** Plot new data using seaborn [`catplot`](https://seaborn.pydata.org/generated/seaborn.catplot.html), where data=bikes, x-axis is `day_names` and y-axis is `cnt`\n",
    "\n",
    "**A10:**\n",
    "Replace the ? mark with your answer in the python cell below"
   ]
  },
  {
   "cell_type": "code",
   "execution_count": null,
   "metadata": {},
   "outputs": [
    {
     "ename": "SyntaxError",
     "evalue": "invalid syntax (Temp/ipykernel_17456/1576165942.py, line 1)",
     "output_type": "error",
     "traceback": [
      "\u001b[1;36m  File \u001b[1;32m\"C:\\Users\\tesic\\AppData\\Local\\Temp/ipykernel_17456/1576165942.py\"\u001b[1;36m, line \u001b[1;32m1\u001b[0m\n\u001b[1;33m    mean_riders = sns.catplot(?)\u001b[0m\n\u001b[1;37m                              ^\u001b[0m\n\u001b[1;31mSyntaxError\u001b[0m\u001b[1;31m:\u001b[0m invalid syntax\n"
     ]
    }
   ],
   "source": [
    "mean_riders = sns.catplot(?)"
   ]
  },
  {
   "cell_type": "markdown",
   "metadata": {},
   "source": [
    "You have now now plotted the average rides per day.  \n",
    "**Note:**  When we do not tell [`catplot`](https://seaborn.pydata.org/generated/seaborn.catplot.html) what to do with multiple points for the same value (in this case the weekday name), it computes the mean and a bootstrapped 95% confidence interval.  "
   ]
  },
  {
   "cell_type": "markdown",
   "metadata": {},
   "source": [
    "## Seaborn Polotting 2: View Data over Time\n",
    "\n",
    "Lets explore how did rides-per-day change over the course of the data set? \n",
    "* This kind of data - a sequence of data points associated with times - is called a *time series*.  \n",
    "* This data set gives us an `instant` column that records the data number since the start of the data set"
   ]
  },
  {
   "cell_type": "markdown",
   "metadata": {},
   "source": [
    "**Q11:**\n",
    "Use [seaborn.lineplot()](https://seaborn.pydata.org/generated/seaborn.lineplot.html) where data=bikes, x-axis is `instant` and y-axis is `cnt` value.\n",
    "\n",
    "**A11:**\n",
    "Replace the ? mark with your answer  in the python cell below"
   ]
  },
  {
   "cell_type": "code",
   "execution_count": null,
   "metadata": {},
   "outputs": [
    {
     "ename": "SyntaxError",
     "evalue": "invalid syntax (Temp/ipykernel_17456/913567343.py, line 1)",
     "output_type": "error",
     "traceback": [
      "\u001b[1;36m  File \u001b[1;32m\"C:\\Users\\tesic\\AppData\\Local\\Temp/ipykernel_17456/913567343.py\"\u001b[1;36m, line \u001b[1;32m1\u001b[0m\n\u001b[1;33m    sns.lineplot(?)\u001b[0m\n\u001b[1;37m                 ^\u001b[0m\n\u001b[1;31mSyntaxError\u001b[0m\u001b[1;31m:\u001b[0m invalid syntax\n"
     ]
    }
   ],
   "source": [
    "sns.lineplot(?)"
   ]
  },
  {
   "cell_type": "markdown",
   "metadata": {},
   "source": [
    "Lets view this graph for actual times on x-axis. The `dteday` column records the date. We can transform `dteday` column to the actual date comlumn using [pandas.to_datetime()](https://pandas.pydata.org/docs/reference/api/pandas.to_datetime.html) method on the column:"
   ]
  },
  {
   "cell_type": "code",
   "execution_count": null,
   "metadata": {},
   "outputs": [
    {
     "ename": "NameError",
     "evalue": "name 'bikes' is not defined",
     "output_type": "error",
     "traceback": [
      "\u001b[1;31m---------------------------------------------------------------------------\u001b[0m",
      "\u001b[1;31mNameError\u001b[0m                                 Traceback (most recent call last)",
      "\u001b[1;32m~\\AppData\\Local\\Temp/ipykernel_17456/281172278.py\u001b[0m in \u001b[0;36m<module>\u001b[1;34m\u001b[0m\n\u001b[1;32m----> 1\u001b[1;33m \u001b[0mbikes\u001b[0m\u001b[1;33m[\u001b[0m\u001b[1;34m'dt'\u001b[0m\u001b[1;33m]\u001b[0m \u001b[1;33m=\u001b[0m \u001b[0mpd\u001b[0m\u001b[1;33m.\u001b[0m\u001b[0mto_datetime\u001b[0m\u001b[1;33m(\u001b[0m\u001b[0mbikes\u001b[0m\u001b[1;33m[\u001b[0m\u001b[1;34m'dteday'\u001b[0m\u001b[1;33m]\u001b[0m\u001b[1;33m)\u001b[0m\u001b[1;33m\u001b[0m\u001b[1;33m\u001b[0m\u001b[0m\n\u001b[0m",
      "\u001b[1;31mNameError\u001b[0m: name 'bikes' is not defined"
     ]
    }
   ],
   "source": [
    "bikes['dt'] = pd.to_datetime(bikes['dteday'])"
   ]
  },
  {
   "cell_type": "markdown",
   "metadata": {},
   "source": [
    "**Q12:**\n",
    "Now create a plot using [seaborn.lineplot()](https://seaborn.pydata.org/generated/seaborn.lineplot.html) where data=bikes, x-axis is `dt` and y-axis is `cnt` value. \n",
    "\n",
    "**A12:** Replace the ? mark with your answer"
   ]
  },
  {
   "cell_type": "code",
   "execution_count": null,
   "metadata": {},
   "outputs": [
    {
     "ename": "SyntaxError",
     "evalue": "invalid syntax (Temp/ipykernel_17456/913567343.py, line 1)",
     "output_type": "error",
     "traceback": [
      "\u001b[1;36m  File \u001b[1;32m\"C:\\Users\\tesic\\AppData\\Local\\Temp/ipykernel_17456/913567343.py\"\u001b[1;36m, line \u001b[1;32m1\u001b[0m\n\u001b[1;33m    sns.lineplot(?)\u001b[0m\n\u001b[1;37m                 ^\u001b[0m\n\u001b[1;31mSyntaxError\u001b[0m\u001b[1;31m:\u001b[0m invalid syntax\n"
     ]
    }
   ],
   "source": [
    "sns.lineplot(?)"
   ]
  },
  {
   "cell_type": "markdown",
   "metadata": {},
   "source": [
    "Next, plot the _weekly_ rides by resampling.  Right now, our `bikes` data is indexed by row number in the CSV file.  We can change its index to another column, such as our `dt` column with the date, which then lets us do things like resample by week:"
   ]
  },
  {
   "cell_type": "code",
   "execution_count": null,
   "metadata": {},
   "outputs": [
    {
     "ename": "NameError",
     "evalue": "name 'bikes' is not defined",
     "output_type": "error",
     "traceback": [
      "\u001b[1;31m---------------------------------------------------------------------------\u001b[0m",
      "\u001b[1;31mNameError\u001b[0m                                 Traceback (most recent call last)",
      "\u001b[1;32m~\\AppData\\Local\\Temp/ipykernel_17456/2181500339.py\u001b[0m in \u001b[0;36m<module>\u001b[1;34m\u001b[0m\n\u001b[1;32m----> 1\u001b[1;33m \u001b[0mbikes\u001b[0m\u001b[1;33m.\u001b[0m\u001b[0mset_index\u001b[0m\u001b[1;33m(\u001b[0m\u001b[1;34m'dt'\u001b[0m\u001b[1;33m)\u001b[0m\u001b[1;33m[\u001b[0m\u001b[1;34m'cnt'\u001b[0m\u001b[1;33m]\u001b[0m\u001b[1;33m.\u001b[0m\u001b[0mresample\u001b[0m\u001b[1;33m(\u001b[0m\u001b[1;34m'1W'\u001b[0m\u001b[1;33m)\u001b[0m\u001b[1;33m.\u001b[0m\u001b[0msum\u001b[0m\u001b[1;33m(\u001b[0m\u001b[1;33m)\u001b[0m\u001b[1;33m.\u001b[0m\u001b[0mplot\u001b[0m\u001b[1;33m(\u001b[0m\u001b[1;33m)\u001b[0m\u001b[1;33m\u001b[0m\u001b[1;33m\u001b[0m\u001b[0m\n\u001b[0m",
      "\u001b[1;31mNameError\u001b[0m: name 'bikes' is not defined"
     ]
    }
   ],
   "source": [
    "bikes.set_index('dt')['cnt'].resample('1W').sum().plot()"
   ]
  },
  {
   "cell_type": "markdown",
   "metadata": {},
   "source": [
    "What that code did, in one line, is:\n",
    "\n",
    "1. Set the data frame's index to `dt` (`bikes.set_index('dt')`), returning a new DF\n",
    "2. Select the count column (`['cnt']`), returning a series\n",
    "3. Resample the series by week (`.resample('1W')`)\n",
    "4. Combine measurements within each sample by summing them (`.sum()`)\n",
    "5. Plotting the results using Pandas' defaults (`.plot()`)\n",
    "\n",
    "Pandas default plotting functions are useful for quick plots to see what's in a data frame or series. They often are difficult to use to turn in to publication-ready charts."
   ]
  },
  {
   "cell_type": "markdown",
   "metadata": {},
   "source": [
    "**Q13:** Save the modified dataframe in csv format using pandas *to_csv()* function. Give the file name as **day_output**\n",
    "\n",
    "**A13:** Replace the ? mark with your answer"
   ]
  },
  {
   "cell_type": "code",
   "execution_count": null,
   "metadata": {},
   "outputs": [
    {
     "ename": "SyntaxError",
     "evalue": "invalid syntax (Temp/ipykernel_17456/3457342399.py, line 1)",
     "output_type": "error",
     "traceback": [
      "\u001b[1;36m  File \u001b[1;32m\"C:\\Users\\tesic\\AppData\\Local\\Temp/ipykernel_17456/3457342399.py\"\u001b[1;36m, line \u001b[1;32m1\u001b[0m\n\u001b[1;33m    bikes.?\u001b[0m\n\u001b[1;37m          ^\u001b[0m\n\u001b[1;31mSyntaxError\u001b[0m\u001b[1;31m:\u001b[0m invalid syntax\n"
     ]
    }
   ],
   "source": [
    "bikes.?"
   ]
  },
  {
   "cell_type": "markdown",
   "metadata": {},
   "source": [
    "## Submission Instructions\n",
    "\n",
    " 1. Run all cells in  `ECpracticeSubmission.ipynb` and make sure there are no errors\n",
    " 2. Print `ECpracticeSubmission.ipynb` to pdf file\n",
    " 3. Create a Folder HW0 and Upload `ECpracticeSubmission.ipynb`, `ECpracticeSubmission.pdf` and `day_output.csv` files to your git repo allocated for this course e.g: https://git.txstate.edu/NetID/netid before the deadline. Make Sure Instructor and TA has access for the repo.\n"
   ]
  }
 ],
 "metadata": {
  "kernelspec": {
   "display_name": "Python 3.8.8 ('base')",
   "language": "python",
   "name": "python3"
  },
  "language_info": {
   "codemirror_mode": {
    "name": "ipython",
    "version": 3
   },
   "file_extension": ".py",
   "mimetype": "text/x-python",
   "name": "python",
   "nbconvert_exporter": "python",
   "pygments_lexer": "ipython3",
   "version": "3.11.5"
  },
  "vscode": {
   "interpreter": {
    "hash": "6e3520c759e5572dcce85a4d2a3287416a08b75cbd9d64f3e9845a08c03ad027"
   }
  }
 },
 "nbformat": 4,
 "nbformat_minor": 2
}
