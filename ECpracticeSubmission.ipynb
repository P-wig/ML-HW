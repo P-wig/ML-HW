{
 "cells": [
  {
   "cell_type": "markdown",
   "metadata": {},
   "source": [
    "# HW 0 (Practice Mode)\n",
    "\n",
    "Canvas assignment [link](https://canvas.txstate.edu/courses/2237214/assignments/32669170) for submission and due date. \n",
    "\n",
    "Objective: \n",
    "* familiarize with the use of basic functions in python packages\n",
    "* familiarize with the use of python notebook: compile all cells to show results\n",
    "\n",
    "Assessment: \n",
    "* successful run of the Markdown and Python notebook cells.\n",
    "* succesfull submission on git [link](https://git.txstate.edu/NetID) by the due date.\n",
    "\n",
    "Keep the following in mind for **all** notebooks you develop:\n",
    "\n",
    "1. Structure your notebook. Use headings with meaningful levels in Markdown cells, and explain the questions each piece of code is to answer or the reason it is there.\n",
    "2. Make sure your notebook can always be rerun from top to bottom.\n",
    "3. **DO NOT** erase notebook cells provided.  \n"
   ]
  },
  {
   "cell_type": "markdown",
   "metadata": {},
   "source": [
    "## Setup\n",
    "\n",
    "This section loads the relevant Python modules and does any configuration needed for the notebook to work. \n",
    "\n",
    "Lets import python packages we will use in this homework: \n",
    "* [numpy](https://numpy.org/) - scientific computing package\n",
    "* [pandas](https://pandas.pydata.org/) - python data analysis package\n",
    "* [seaborn](https://seaborn.pydata.org/) - statistical data visualization package"
   ]
  },
  {
   "cell_type": "code",
   "execution_count": 1,
   "metadata": {},
   "outputs": [],
   "source": [
    "import numpy as np\n",
    "import pandas as pd\n",
    "import seaborn as sns"
   ]
  },
  {
   "cell_type": "markdown",
   "metadata": {},
   "source": [
    "##  Introduction to Pandas\n",
    "In this chapter you will use pandas commands"
   ]
  },
  {
   "cell_type": "markdown",
   "metadata": {},
   "source": [
    "**Q1:** Read the data file using Pandas. **Note** When we run your experiment to test for correctness, we assume that the day.csv is in the ../data/ folder relative to your HW1.ipynb. \n",
    "\n",
    "1.  **Download the Capital Bike Share data set** from <https://archive.ics.uci.edu/ml/datasets/bike+sharing+dataset>.  Click 'Data Folder', download the zip file, and extract the `day.csv` file.\n",
    "  * get used to downloading data files and saving them to correct hierarchy.\n",
    "  * big part of projct and source versioning practice\n",
    "  \n",
    "2. Read the Data File: use Pandas [read_csv](https://pandas.pydata.org/pandas-docs/stable/reference/api/pandas.read_csv.html)[] function to read the file into `bikes` dataframe.  \n",
    "   * Our data file does not have column headers, so we need to specify the names.\n",
    "   [read_csv]: https://pandas.pydata.org/pandas-docs/stable/reference/api/pandas.read_csv.html"
   ]
  },
  {
   "cell_type": "markdown",
   "metadata": {},
   "source": [
    "**A1** Replace the ? mark with your answer in the python cell below. "
   ]
  },
  {
   "cell_type": "code",
   "execution_count": 4,
   "metadata": {},
   "outputs": [],
   "source": [
    "bikes = pd.read_csv(\"data/day.csv\", header = None)"
   ]
  },
  {
   "cell_type": "markdown",
   "metadata": {},
   "source": [
    "**Q2:**\n",
    " Use `head` to show the first few rows of the table: \n",
    "* brief preview is a safety check you are exploring the correct data frame \n",
    "\n",
    "**A2**\n",
    "Replace the ? mark with your answer"
   ]
  },
  {
   "cell_type": "code",
   "execution_count": 6,
   "metadata": {},
   "outputs": [
    {
     "data": {
      "text/html": [
       "<div>\n",
       "<style scoped>\n",
       "    .dataframe tbody tr th:only-of-type {\n",
       "        vertical-align: middle;\n",
       "    }\n",
       "\n",
       "    .dataframe tbody tr th {\n",
       "        vertical-align: top;\n",
       "    }\n",
       "\n",
       "    .dataframe thead th {\n",
       "        text-align: right;\n",
       "    }\n",
       "</style>\n",
       "<table border=\"1\" class=\"dataframe\">\n",
       "  <thead>\n",
       "    <tr style=\"text-align: right;\">\n",
       "      <th></th>\n",
       "      <th>0</th>\n",
       "      <th>1</th>\n",
       "      <th>2</th>\n",
       "      <th>3</th>\n",
       "      <th>4</th>\n",
       "      <th>5</th>\n",
       "      <th>6</th>\n",
       "      <th>7</th>\n",
       "      <th>8</th>\n",
       "      <th>9</th>\n",
       "      <th>10</th>\n",
       "      <th>11</th>\n",
       "      <th>12</th>\n",
       "      <th>13</th>\n",
       "      <th>14</th>\n",
       "      <th>15</th>\n",
       "    </tr>\n",
       "  </thead>\n",
       "  <tbody>\n",
       "    <tr>\n",
       "      <th>0</th>\n",
       "      <td>instant</td>\n",
       "      <td>dteday</td>\n",
       "      <td>season</td>\n",
       "      <td>yr</td>\n",
       "      <td>mnth</td>\n",
       "      <td>holiday</td>\n",
       "      <td>weekday</td>\n",
       "      <td>workingday</td>\n",
       "      <td>weathersit</td>\n",
       "      <td>temp</td>\n",
       "      <td>atemp</td>\n",
       "      <td>hum</td>\n",
       "      <td>windspeed</td>\n",
       "      <td>casual</td>\n",
       "      <td>registered</td>\n",
       "      <td>cnt</td>\n",
       "    </tr>\n",
       "    <tr>\n",
       "      <th>1</th>\n",
       "      <td>1</td>\n",
       "      <td>2011-01-01</td>\n",
       "      <td>1</td>\n",
       "      <td>0</td>\n",
       "      <td>1</td>\n",
       "      <td>0</td>\n",
       "      <td>6</td>\n",
       "      <td>0</td>\n",
       "      <td>2</td>\n",
       "      <td>0.344167</td>\n",
       "      <td>0.363625</td>\n",
       "      <td>0.805833</td>\n",
       "      <td>0.160446</td>\n",
       "      <td>331</td>\n",
       "      <td>654</td>\n",
       "      <td>985</td>\n",
       "    </tr>\n",
       "    <tr>\n",
       "      <th>2</th>\n",
       "      <td>2</td>\n",
       "      <td>2011-01-02</td>\n",
       "      <td>1</td>\n",
       "      <td>0</td>\n",
       "      <td>1</td>\n",
       "      <td>0</td>\n",
       "      <td>0</td>\n",
       "      <td>0</td>\n",
       "      <td>2</td>\n",
       "      <td>0.363478</td>\n",
       "      <td>0.353739</td>\n",
       "      <td>0.696087</td>\n",
       "      <td>0.248539</td>\n",
       "      <td>131</td>\n",
       "      <td>670</td>\n",
       "      <td>801</td>\n",
       "    </tr>\n",
       "    <tr>\n",
       "      <th>3</th>\n",
       "      <td>3</td>\n",
       "      <td>2011-01-03</td>\n",
       "      <td>1</td>\n",
       "      <td>0</td>\n",
       "      <td>1</td>\n",
       "      <td>0</td>\n",
       "      <td>1</td>\n",
       "      <td>1</td>\n",
       "      <td>1</td>\n",
       "      <td>0.196364</td>\n",
       "      <td>0.189405</td>\n",
       "      <td>0.437273</td>\n",
       "      <td>0.248309</td>\n",
       "      <td>120</td>\n",
       "      <td>1229</td>\n",
       "      <td>1349</td>\n",
       "    </tr>\n",
       "    <tr>\n",
       "      <th>4</th>\n",
       "      <td>4</td>\n",
       "      <td>2011-01-04</td>\n",
       "      <td>1</td>\n",
       "      <td>0</td>\n",
       "      <td>1</td>\n",
       "      <td>0</td>\n",
       "      <td>2</td>\n",
       "      <td>1</td>\n",
       "      <td>1</td>\n",
       "      <td>0.2</td>\n",
       "      <td>0.212122</td>\n",
       "      <td>0.590435</td>\n",
       "      <td>0.160296</td>\n",
       "      <td>108</td>\n",
       "      <td>1454</td>\n",
       "      <td>1562</td>\n",
       "    </tr>\n",
       "  </tbody>\n",
       "</table>\n",
       "</div>"
      ],
      "text/plain": [
       "        0           1       2   3     4        5        6           7   \\\n",
       "0  instant      dteday  season  yr  mnth  holiday  weekday  workingday   \n",
       "1        1  2011-01-01       1   0     1        0        6           0   \n",
       "2        2  2011-01-02       1   0     1        0        0           0   \n",
       "3        3  2011-01-03       1   0     1        0        1           1   \n",
       "4        4  2011-01-04       1   0     1        0        2           1   \n",
       "\n",
       "           8         9         10        11         12      13          14  \\\n",
       "0  weathersit      temp     atemp       hum  windspeed  casual  registered   \n",
       "1           2  0.344167  0.363625  0.805833   0.160446     331         654   \n",
       "2           2  0.363478  0.353739  0.696087   0.248539     131         670   \n",
       "3           1  0.196364  0.189405  0.437273   0.248309     120        1229   \n",
       "4           1       0.2  0.212122  0.590435   0.160296     108        1454   \n",
       "\n",
       "     15  \n",
       "0   cnt  \n",
       "1   985  \n",
       "2   801  \n",
       "3  1349  \n",
       "4  1562  "
      ]
     },
     "execution_count": 6,
     "metadata": {},
     "output_type": "execute_result"
    }
   ],
   "source": [
    "bikes.head()"
   ]
  },
  {
   "cell_type": "markdown",
   "metadata": {},
   "source": [
    "**Q3:**  Use `info` to show a description of the columns, along with the shape and memory use of the data frame:\n",
    "* `.info()` or `.head()` can be called in the same cell as data load \n",
    "* we separate them out in this notebook so that we can discuss them in the markdown cells, but we can combine them in the future. \n",
    "\n",
    "**A3** Replace the ? mark with your answer in the python cell below"
   ]
  },
  {
   "cell_type": "code",
   "execution_count": 8,
   "metadata": {},
   "outputs": [
    {
     "name": "stdout",
     "output_type": "stream",
     "text": [
      "<class 'pandas.core.frame.DataFrame'>\n",
      "RangeIndex: 732 entries, 0 to 731\n",
      "Data columns (total 16 columns):\n",
      " #   Column  Non-Null Count  Dtype \n",
      "---  ------  --------------  ----- \n",
      " 0   0       732 non-null    object\n",
      " 1   1       732 non-null    object\n",
      " 2   2       732 non-null    object\n",
      " 3   3       732 non-null    object\n",
      " 4   4       732 non-null    object\n",
      " 5   5       732 non-null    object\n",
      " 6   6       732 non-null    object\n",
      " 7   7       732 non-null    object\n",
      " 8   8       732 non-null    object\n",
      " 9   9       732 non-null    object\n",
      " 10  10      732 non-null    object\n",
      " 11  11      732 non-null    object\n",
      " 12  12      732 non-null    object\n",
      " 13  13      732 non-null    object\n",
      " 14  14      732 non-null    object\n",
      " 15  15      732 non-null    object\n",
      "dtypes: object(16)\n",
      "memory usage: 91.6+ KB\n"
     ]
    }
   ],
   "source": [
    "bikes.info()"
   ]
  },
  {
   "cell_type": "markdown",
   "metadata": {},
   "source": [
    "**Q4:** Pandas provide a very useful function for exploring statistical properties of dataframe, and allow us to see data composition for numerical columns. Use pandas build-in function and show statistical information for columns.\n",
    "\n",
    "**A4:** Replace the ? mark with your answer in the python cell below"
   ]
  },
  {
   "cell_type": "code",
   "execution_count": 10,
   "metadata": {},
   "outputs": [
    {
     "data": {
      "text/html": [
       "<div>\n",
       "<style scoped>\n",
       "    .dataframe tbody tr th:only-of-type {\n",
       "        vertical-align: middle;\n",
       "    }\n",
       "\n",
       "    .dataframe tbody tr th {\n",
       "        vertical-align: top;\n",
       "    }\n",
       "\n",
       "    .dataframe thead th {\n",
       "        text-align: right;\n",
       "    }\n",
       "</style>\n",
       "<table border=\"1\" class=\"dataframe\">\n",
       "  <thead>\n",
       "    <tr style=\"text-align: right;\">\n",
       "      <th></th>\n",
       "      <th>0</th>\n",
       "      <th>1</th>\n",
       "      <th>2</th>\n",
       "      <th>3</th>\n",
       "      <th>4</th>\n",
       "      <th>5</th>\n",
       "      <th>6</th>\n",
       "      <th>7</th>\n",
       "      <th>8</th>\n",
       "      <th>9</th>\n",
       "      <th>10</th>\n",
       "      <th>11</th>\n",
       "      <th>12</th>\n",
       "      <th>13</th>\n",
       "      <th>14</th>\n",
       "      <th>15</th>\n",
       "    </tr>\n",
       "  </thead>\n",
       "  <tbody>\n",
       "    <tr>\n",
       "      <th>count</th>\n",
       "      <td>732</td>\n",
       "      <td>732</td>\n",
       "      <td>732</td>\n",
       "      <td>732</td>\n",
       "      <td>732</td>\n",
       "      <td>732</td>\n",
       "      <td>732</td>\n",
       "      <td>732</td>\n",
       "      <td>732</td>\n",
       "      <td>732</td>\n",
       "      <td>732</td>\n",
       "      <td>732</td>\n",
       "      <td>732</td>\n",
       "      <td>732</td>\n",
       "      <td>732</td>\n",
       "      <td>732</td>\n",
       "    </tr>\n",
       "    <tr>\n",
       "      <th>unique</th>\n",
       "      <td>732</td>\n",
       "      <td>732</td>\n",
       "      <td>5</td>\n",
       "      <td>3</td>\n",
       "      <td>13</td>\n",
       "      <td>3</td>\n",
       "      <td>8</td>\n",
       "      <td>3</td>\n",
       "      <td>4</td>\n",
       "      <td>500</td>\n",
       "      <td>691</td>\n",
       "      <td>596</td>\n",
       "      <td>651</td>\n",
       "      <td>607</td>\n",
       "      <td>680</td>\n",
       "      <td>697</td>\n",
       "    </tr>\n",
       "    <tr>\n",
       "      <th>top</th>\n",
       "      <td>instant</td>\n",
       "      <td>dteday</td>\n",
       "      <td>3</td>\n",
       "      <td>1</td>\n",
       "      <td>1</td>\n",
       "      <td>0</td>\n",
       "      <td>6</td>\n",
       "      <td>1</td>\n",
       "      <td>1</td>\n",
       "      <td>0.265833</td>\n",
       "      <td>0.654688</td>\n",
       "      <td>0.613333</td>\n",
       "      <td>0.134954</td>\n",
       "      <td>120</td>\n",
       "      <td>6248</td>\n",
       "      <td>6043</td>\n",
       "    </tr>\n",
       "    <tr>\n",
       "      <th>freq</th>\n",
       "      <td>1</td>\n",
       "      <td>1</td>\n",
       "      <td>188</td>\n",
       "      <td>366</td>\n",
       "      <td>62</td>\n",
       "      <td>710</td>\n",
       "      <td>105</td>\n",
       "      <td>500</td>\n",
       "      <td>463</td>\n",
       "      <td>5</td>\n",
       "      <td>4</td>\n",
       "      <td>4</td>\n",
       "      <td>3</td>\n",
       "      <td>4</td>\n",
       "      <td>3</td>\n",
       "      <td>2</td>\n",
       "    </tr>\n",
       "  </tbody>\n",
       "</table>\n",
       "</div>"
      ],
      "text/plain": [
       "             0       1    2    3    4    5    6    7    8         9   \\\n",
       "count       732     732  732  732  732  732  732  732  732       732   \n",
       "unique      732     732    5    3   13    3    8    3    4       500   \n",
       "top     instant  dteday    3    1    1    0    6    1    1  0.265833   \n",
       "freq          1       1  188  366   62  710  105  500  463         5   \n",
       "\n",
       "              10        11        12   13    14    15  \n",
       "count        732       732       732  732   732   732  \n",
       "unique       691       596       651  607   680   697  \n",
       "top     0.654688  0.613333  0.134954  120  6248  6043  \n",
       "freq           4         4         3    4     3     2  "
      ]
     },
     "execution_count": 10,
     "metadata": {},
     "output_type": "execute_result"
    }
   ],
   "source": [
    "bikes.describe()"
   ]
  },
  {
   "cell_type": "markdown",
   "metadata": {},
   "source": [
    "**Q5:** Use pandas functions for filtering the dataframe rows based on some column values. Find out number of rows where the value of the **temp** column is more than the average value of **temp** for the dataset.\n",
    "\n",
    "*Steps:*\n",
    "1. Find out the mean value of the temp column\n",
    "2. Filter the rows where temp is grater than the mean value\n",
    "3. Get the number of rows in the filtered dataframe.\n",
    "\n",
    "\n",
    "**A5:** Replace the ? mark with your answer in python cell below"
   ]
  },
  {
   "cell_type": "code",
   "execution_count": 78,
   "metadata": {},
   "outputs": [
    {
     "ename": "TypeError",
     "evalue": "Could not convert temp0.3441670.3634780.1963640.20.2269570.2043480.1965220.1650.1383330.1508330.1690910.1727270.1650.160870.2333330.2316670.1758330.2166670.2921740.2616670.17750.05913040.09652170.09739130.2234780.21750.1950.2034780.1965220.2165220.1808330.1921740.260.1869570.2113040.2333330.2858330.2716670.2208330.1347830.1443480.1890910.22250.3165220.4150.2660870.3182610.4358330.5216670.3991670.2852170.3033330.1822220.2217390.2956520.3643480.28250.3434780.4072730.2666670.3350.1983330.2616670.3841670.3765220.2617390.29250.2958330.3890910.3165220.3291670.3843480.3252170.3173910.3652170.4150.540.47250.33250.4304350.4416670.3469570.2850.2641670.2658330.2530430.2643480.30250.30.2683330.30.3150.3783330.5733330.4141670.3908330.43750.3358330.34250.4266670.5956520.50250.41250.46750.4466670.4308330.4566670.51250.5058330.5950.4591670.3366670.460.5816670.6066670.6316670.620.61750.510.47250.4516670.5491670.6166670.4141670.4591670.4791670.520.5283330.53250.53250.54250.5350.51250.5208330.56250.57750.5616670.550.5308330.5366670.60250.6041670.6316670.660.6608330.7083330.6816670.6558330.66750.7333330.7750.7641670.7150.620.6350.6483330.6783330.70750.7758330.8083330.7550.7250.69250.6350.6041670.6266670.6283330.6491670.6966670.6991670.6350.6808330.7333330.7283330.7241670.6950.680.68250.7441670.7283330.6966670.72250.7383330.7166670.7266670.7466670.720.750.7091670.7333330.74750.76250.7941670.7466670.6808330.6633330.6866670.7191670.7466670.7766670.7683330.8150.8483330.8491670.830.7433330.7716670.7750.7791670.8383330.8041670.8058330.7716670.7833330.7316670.710.7108330.7166670.74250.7650.7750.7666670.71750.7083330.6858330.6766670.6658330.7008330.7233330.7116670.6850.69750.7108330.6916670.6408330.6733330.6841670.70.680.7070590.6366670.6391670.6566670.6550.6433330.6691670.7091670.6733330.540.5991670.6339130.650.660.6533330.6443480.6508330.6733330.57750.4691670.4916670.50750.5491670.5616670.5950.6283330.6091670.6066670.6341670.6491670.6366670.6350.6166670.5641670.410.3566670.3841670.4841670.5383330.4941670.5108330.5216670.5408330.5708330.5666670.5433330.5891670.5508330.5066670.5116670.5341670.53250.5417390.4758330.42750.42250.4216670.4633330.4716670.4841670.470.3308330.2541670.3191670.340.4008330.37750.4083330.4033330.3266670.3483330.3950.4083330.40.380.3241670.3566670.4408330.530.530.4566670.3416670.2741670.3291670.4633330.44750.4166670.4408330.3733330.3750.3758330.4591670.5034780.4583330.3250.31250.3141670.2991670.3308330.3858330.46250.410.2658330.2908330.2750.2208330.2383330.28250.31750.42250.3750.2583330.2383330.2766670.3858330.4283330.4233330.3733330.30250.2747830.3217390.3250.299130.2483330.3116670.410.370.2730430.150.10750.2658330.3341670.3933330.33750.2241670.3086960.2741670.38250.2741670.180.1666670.190.3730430.3033330.190.21750.1733330.16250.2183330.34250.2941670.3416670.4250.3158330.28250.2691670.390.4691670.3991670.3133330.2641670.2658330.2826090.3541670.2566670.2650.2808330.2241670.12750.22250.3191670.3483330.3166670.3433330.3466670.280.280.2878260.3958330.4541670.40750.2908330.2791670.3666670.3591670.3443480.4858330.3533330.4141670.3258330.2433330.2583330.4041670.52750.4108330.28750.3617390.4666670.5650.57250.55750.4358330.5141670.47250.5450.5608330.5316670.5541670.6016670.50250.43750.4458330.3233330.4841670.4941670.370.4241670.4258330.4339130.4666670.5416670.4350.4033330.43750.50.4891670.4466670.3486960.39750.44250.4950.6066670.6641670.6083330.4633330.4983330.5266670.570.3966670.3216670.4133330.4766670.4983330.45750.3766670.4583330.4641670.6133330.5641670.560.62750.6216670.56250.53750.5816670.5750.5058330.5333330.5641670.61250.5733330.6116670.6366670.5933330.5641670.60.6208330.5983330.6150.6216670.6550.680.69250.690.71250.72250.6566670.680.6541670.5833330.60250.59750.5408330.5541670.60250.6491670.7108330.7266670.7208330.6533330.6558330.6483330.6391670.6316670.59250.5683330.6883330.78250.8058330.77750.7316670.7433330.7158330.6308330.69750.7491670.8341670.7650.8158330.7816670.7808330.7891670.82750.8283330.8616670.82250.7108330.7208330.7166670.7158330.7316670.7033330.7458330.7633330.8183330.7933330.770.6658330.5958330.66750.7416670.7508330.7241670.7766670.7816670.7558330.7216670.7308330.7133330.71750.75250.7658330.7933330.7691670.75250.7358330.750.7558330.7158330.69250.7008330.7208330.7266670.7066670.7191670.7233330.6783330.6358330.6358330.6491670.66750.6958330.70250.6616670.6533330.7033330.7283330.6850.7066670.7641670.7533330.6966670.70750.7258330.7366670.6966670.7033330.6591670.610.5833330.57750.5991670.61250.6333330.6083330.580.5808330.6233330.55250.5466670.5991670.650.5291670.5141670.550.6350.650.6191670.54250.5266670.5208330.5908330.65750.65750.6150.5541670.4158330.3833330.4466670.5141670.4350.43750.3933330.5216670.5616670.4683330.4558330.52250.5633330.4841670.4641670.48750.5441670.58750.550.5458330.530.47750.440.3181820.35750.3658330.3550.3433330.3258330.3191670.2808330.2958330.3521740.3616670.3891670.4208330.4850.3433330.2891670.3216670.3450.3250.34250.3808330.3741670.3533330.340.3683330.2783330.2458330.3133330.2916670.2966670.280870.2983330.2983330.34750.45250.4758330.4383330.2558330.3208330.3816670.3841670.4358330.3533330.29750.2958330.2816670.3241670.36250.3933330.4108330.33250.330.3266670.2658330.2458330.2313040.2913040.2433330.2541670.2533330.2533330.2558330.215833 to numeric",
     "output_type": "error",
     "traceback": [
      "\u001b[1;31m---------------------------------------------------------------------------\u001b[0m",
      "\u001b[1;31mValueError\u001b[0m                                Traceback (most recent call last)",
      "File \u001b[1;32mc:\\Users\\Isaac\\anaconda3\\Lib\\site-packages\\pandas\\core\\nanops.py:1692\u001b[0m, in \u001b[0;36m_ensure_numeric\u001b[1;34m(x)\u001b[0m\n\u001b[0;32m   1691\u001b[0m \u001b[38;5;28;01mtry\u001b[39;00m:\n\u001b[1;32m-> 1692\u001b[0m     x \u001b[38;5;241m=\u001b[39m \u001b[38;5;28mfloat\u001b[39m(x)\n\u001b[0;32m   1693\u001b[0m \u001b[38;5;28;01mexcept\u001b[39;00m (\u001b[38;5;167;01mTypeError\u001b[39;00m, \u001b[38;5;167;01mValueError\u001b[39;00m):\n\u001b[0;32m   1694\u001b[0m     \u001b[38;5;66;03m# e.g. \"1+1j\" or \"foo\"\u001b[39;00m\n",
      "\u001b[1;31mValueError\u001b[0m: could not convert string to float: 'temp0.3441670.3634780.1963640.20.2269570.2043480.1965220.1650.1383330.1508330.1690910.1727270.1650.160870.2333330.2316670.1758330.2166670.2921740.2616670.17750.05913040.09652170.09739130.2234780.21750.1950.2034780.1965220.2165220.1808330.1921740.260.1869570.2113040.2333330.2858330.2716670.2208330.1347830.1443480.1890910.22250.3165220.4150.2660870.3182610.4358330.5216670.3991670.2852170.3033330.1822220.2217390.2956520.3643480.28250.3434780.4072730.2666670.3350.1983330.2616670.3841670.3765220.2617390.29250.2958330.3890910.3165220.3291670.3843480.3252170.3173910.3652170.4150.540.47250.33250.4304350.4416670.3469570.2850.2641670.2658330.2530430.2643480.30250.30.2683330.30.3150.3783330.5733330.4141670.3908330.43750.3358330.34250.4266670.5956520.50250.41250.46750.4466670.4308330.4566670.51250.5058330.5950.4591670.3366670.460.5816670.6066670.6316670.620.61750.510.47250.4516670.5491670.6166670.4141670.4591670.4791670.520.5283330.53250.53250.54250.5350.51250.5208330.56250.57750.5616670.550.5308330.5366670.60250.6041670.6316670.660.6608330.7083330.6816670.6558330.66750.7333330.7750.7641670.7150.620.6350.6483330.6783330.70750.7758330.8083330.7550.7250.69250.6350.6041670.6266670.6283330.6491670.6966670.6991670.6350.6808330.7333330.7283330.7241670.6950.680.68250.7441670.7283330.6966670.72250.7383330.7166670.7266670.7466670.720.750.7091670.7333330.74750.76250.7941670.7466670.6808330.6633330.6866670.7191670.7466670.7766670.7683330.8150.8483330.8491670.830.7433330.7716670.7750.7791670.8383330.8041670.8058330.7716670.7833330.7316670.710.7108330.7166670.74250.7650.7750.7666670.71750.7083330.6858330.6766670.6658330.7008330.7233330.7116670.6850.69750.7108330.6916670.6408330.6733330.6841670.70.680.7070590.6366670.6391670.6566670.6550.6433330.6691670.7091670.6733330.540.5991670.6339130.650.660.6533330.6443480.6508330.6733330.57750.4691670.4916670.50750.5491670.5616670.5950.6283330.6091670.6066670.6341670.6491670.6366670.6350.6166670.5641670.410.3566670.3841670.4841670.5383330.4941670.5108330.5216670.5408330.5708330.5666670.5433330.5891670.5508330.5066670.5116670.5341670.53250.5417390.4758330.42750.42250.4216670.4633330.4716670.4841670.470.3308330.2541670.3191670.340.4008330.37750.4083330.4033330.3266670.3483330.3950.4083330.40.380.3241670.3566670.4408330.530.530.4566670.3416670.2741670.3291670.4633330.44750.4166670.4408330.3733330.3750.3758330.4591670.5034780.4583330.3250.31250.3141670.2991670.3308330.3858330.46250.410.2658330.2908330.2750.2208330.2383330.28250.31750.42250.3750.2583330.2383330.2766670.3858330.4283330.4233330.3733330.30250.2747830.3217390.3250.299130.2483330.3116670.410.370.2730430.150.10750.2658330.3341670.3933330.33750.2241670.3086960.2741670.38250.2741670.180.1666670.190.3730430.3033330.190.21750.1733330.16250.2183330.34250.2941670.3416670.4250.3158330.28250.2691670.390.4691670.3991670.3133330.2641670.2658330.2826090.3541670.2566670.2650.2808330.2241670.12750.22250.3191670.3483330.3166670.3433330.3466670.280.280.2878260.3958330.4541670.40750.2908330.2791670.3666670.3591670.3443480.4858330.3533330.4141670.3258330.2433330.2583330.4041670.52750.4108330.28750.3617390.4666670.5650.57250.55750.4358330.5141670.47250.5450.5608330.5316670.5541670.6016670.50250.43750.4458330.3233330.4841670.4941670.370.4241670.4258330.4339130.4666670.5416670.4350.4033330.43750.50.4891670.4466670.3486960.39750.44250.4950.6066670.6641670.6083330.4633330.4983330.5266670.570.3966670.3216670.4133330.4766670.4983330.45750.3766670.4583330.4641670.6133330.5641670.560.62750.6216670.56250.53750.5816670.5750.5058330.5333330.5641670.61250.5733330.6116670.6366670.5933330.5641670.60.6208330.5983330.6150.6216670.6550.680.69250.690.71250.72250.6566670.680.6541670.5833330.60250.59750.5408330.5541670.60250.6491670.7108330.7266670.7208330.6533330.6558330.6483330.6391670.6316670.59250.5683330.6883330.78250.8058330.77750.7316670.7433330.7158330.6308330.69750.7491670.8341670.7650.8158330.7816670.7808330.7891670.82750.8283330.8616670.82250.7108330.7208330.7166670.7158330.7316670.7033330.7458330.7633330.8183330.7933330.770.6658330.5958330.66750.7416670.7508330.7241670.7766670.7816670.7558330.7216670.7308330.7133330.71750.75250.7658330.7933330.7691670.75250.7358330.750.7558330.7158330.69250.7008330.7208330.7266670.7066670.7191670.7233330.6783330.6358330.6358330.6491670.66750.6958330.70250.6616670.6533330.7033330.7283330.6850.7066670.7641670.7533330.6966670.70750.7258330.7366670.6966670.7033330.6591670.610.5833330.57750.5991670.61250.6333330.6083330.580.5808330.6233330.55250.5466670.5991670.650.5291670.5141670.550.6350.650.6191670.54250.5266670.5208330.5908330.65750.65750.6150.5541670.4158330.3833330.4466670.5141670.4350.43750.3933330.5216670.5616670.4683330.4558330.52250.5633330.4841670.4641670.48750.5441670.58750.550.5458330.530.47750.440.3181820.35750.3658330.3550.3433330.3258330.3191670.2808330.2958330.3521740.3616670.3891670.4208330.4850.3433330.2891670.3216670.3450.3250.34250.3808330.3741670.3533330.340.3683330.2783330.2458330.3133330.2916670.2966670.280870.2983330.2983330.34750.45250.4758330.4383330.2558330.3208330.3816670.3841670.4358330.3533330.29750.2958330.2816670.3241670.36250.3933330.4108330.33250.330.3266670.2658330.2458330.2313040.2913040.2433330.2541670.2533330.2533330.2558330.215833'",
      "\nDuring handling of the above exception, another exception occurred:\n",
      "\u001b[1;31mValueError\u001b[0m                                Traceback (most recent call last)",
      "File \u001b[1;32mc:\\Users\\Isaac\\anaconda3\\Lib\\site-packages\\pandas\\core\\nanops.py:1696\u001b[0m, in \u001b[0;36m_ensure_numeric\u001b[1;34m(x)\u001b[0m\n\u001b[0;32m   1695\u001b[0m \u001b[38;5;28;01mtry\u001b[39;00m:\n\u001b[1;32m-> 1696\u001b[0m     x \u001b[38;5;241m=\u001b[39m \u001b[38;5;28mcomplex\u001b[39m(x)\n\u001b[0;32m   1697\u001b[0m \u001b[38;5;28;01mexcept\u001b[39;00m \u001b[38;5;167;01mValueError\u001b[39;00m \u001b[38;5;28;01mas\u001b[39;00m err:\n\u001b[0;32m   1698\u001b[0m     \u001b[38;5;66;03m# e.g. \"foo\"\u001b[39;00m\n",
      "\u001b[1;31mValueError\u001b[0m: complex() arg is a malformed string",
      "\nThe above exception was the direct cause of the following exception:\n",
      "\u001b[1;31mTypeError\u001b[0m                                 Traceback (most recent call last)",
      "Cell \u001b[1;32mIn[78], line 1\u001b[0m\n\u001b[1;32m----> 1\u001b[0m mean_value \u001b[38;5;241m=\u001b[39m bikes[\u001b[38;5;241m9\u001b[39m]\u001b[38;5;241m.\u001b[39mmean()\n\u001b[0;32m      2\u001b[0m filtered_dataframe \u001b[38;5;241m=\u001b[39m bikes[ bikes[\u001b[38;5;241m9\u001b[39m] \u001b[38;5;241m>\u001b[39m mean_value ]\n\u001b[0;32m      3\u001b[0m row_count \u001b[38;5;241m=\u001b[39m \u001b[38;5;28mlen\u001b[39m(filtered_dataframe)\n",
      "File \u001b[1;32mc:\\Users\\Isaac\\anaconda3\\Lib\\site-packages\\pandas\\core\\generic.py:11556\u001b[0m, in \u001b[0;36mNDFrame._add_numeric_operations.<locals>.mean\u001b[1;34m(self, axis, skipna, numeric_only, **kwargs)\u001b[0m\n\u001b[0;32m  11539\u001b[0m \u001b[38;5;129m@doc\u001b[39m(\n\u001b[0;32m  11540\u001b[0m     _num_doc,\n\u001b[0;32m  11541\u001b[0m     desc\u001b[38;5;241m=\u001b[39m\u001b[38;5;124m\"\u001b[39m\u001b[38;5;124mReturn the mean of the values over the requested axis.\u001b[39m\u001b[38;5;124m\"\u001b[39m,\n\u001b[1;32m   (...)\u001b[0m\n\u001b[0;32m  11554\u001b[0m     \u001b[38;5;241m*\u001b[39m\u001b[38;5;241m*\u001b[39mkwargs,\n\u001b[0;32m  11555\u001b[0m ):\n\u001b[1;32m> 11556\u001b[0m     \u001b[38;5;28;01mreturn\u001b[39;00m NDFrame\u001b[38;5;241m.\u001b[39mmean(\u001b[38;5;28mself\u001b[39m, axis, skipna, numeric_only, \u001b[38;5;241m*\u001b[39m\u001b[38;5;241m*\u001b[39mkwargs)\n",
      "File \u001b[1;32mc:\\Users\\Isaac\\anaconda3\\Lib\\site-packages\\pandas\\core\\generic.py:11201\u001b[0m, in \u001b[0;36mNDFrame.mean\u001b[1;34m(self, axis, skipna, numeric_only, **kwargs)\u001b[0m\n\u001b[0;32m  11194\u001b[0m \u001b[38;5;28;01mdef\u001b[39;00m \u001b[38;5;21mmean\u001b[39m(\n\u001b[0;32m  11195\u001b[0m     \u001b[38;5;28mself\u001b[39m,\n\u001b[0;32m  11196\u001b[0m     axis: Axis \u001b[38;5;241m|\u001b[39m \u001b[38;5;28;01mNone\u001b[39;00m \u001b[38;5;241m=\u001b[39m \u001b[38;5;241m0\u001b[39m,\n\u001b[1;32m   (...)\u001b[0m\n\u001b[0;32m  11199\u001b[0m     \u001b[38;5;241m*\u001b[39m\u001b[38;5;241m*\u001b[39mkwargs,\n\u001b[0;32m  11200\u001b[0m ) \u001b[38;5;241m-\u001b[39m\u001b[38;5;241m>\u001b[39m Series \u001b[38;5;241m|\u001b[39m \u001b[38;5;28mfloat\u001b[39m:\n\u001b[1;32m> 11201\u001b[0m     \u001b[38;5;28;01mreturn\u001b[39;00m \u001b[38;5;28mself\u001b[39m\u001b[38;5;241m.\u001b[39m_stat_function(\n\u001b[0;32m  11202\u001b[0m         \u001b[38;5;124m\"\u001b[39m\u001b[38;5;124mmean\u001b[39m\u001b[38;5;124m\"\u001b[39m, nanops\u001b[38;5;241m.\u001b[39mnanmean, axis, skipna, numeric_only, \u001b[38;5;241m*\u001b[39m\u001b[38;5;241m*\u001b[39mkwargs\n\u001b[0;32m  11203\u001b[0m     )\n",
      "File \u001b[1;32mc:\\Users\\Isaac\\anaconda3\\Lib\\site-packages\\pandas\\core\\generic.py:11158\u001b[0m, in \u001b[0;36mNDFrame._stat_function\u001b[1;34m(self, name, func, axis, skipna, numeric_only, **kwargs)\u001b[0m\n\u001b[0;32m  11154\u001b[0m     nv\u001b[38;5;241m.\u001b[39mvalidate_stat_func((), kwargs, fname\u001b[38;5;241m=\u001b[39mname)\n\u001b[0;32m  11156\u001b[0m validate_bool_kwarg(skipna, \u001b[38;5;124m\"\u001b[39m\u001b[38;5;124mskipna\u001b[39m\u001b[38;5;124m\"\u001b[39m, none_allowed\u001b[38;5;241m=\u001b[39m\u001b[38;5;28;01mFalse\u001b[39;00m)\n\u001b[1;32m> 11158\u001b[0m \u001b[38;5;28;01mreturn\u001b[39;00m \u001b[38;5;28mself\u001b[39m\u001b[38;5;241m.\u001b[39m_reduce(\n\u001b[0;32m  11159\u001b[0m     func, name\u001b[38;5;241m=\u001b[39mname, axis\u001b[38;5;241m=\u001b[39maxis, skipna\u001b[38;5;241m=\u001b[39mskipna, numeric_only\u001b[38;5;241m=\u001b[39mnumeric_only\n\u001b[0;32m  11160\u001b[0m )\n",
      "File \u001b[1;32mc:\\Users\\Isaac\\anaconda3\\Lib\\site-packages\\pandas\\core\\series.py:4670\u001b[0m, in \u001b[0;36mSeries._reduce\u001b[1;34m(self, op, name, axis, skipna, numeric_only, filter_type, **kwds)\u001b[0m\n\u001b[0;32m   4665\u001b[0m     \u001b[38;5;28;01mraise\u001b[39;00m \u001b[38;5;167;01mTypeError\u001b[39;00m(\n\u001b[0;32m   4666\u001b[0m         \u001b[38;5;124mf\u001b[39m\u001b[38;5;124m\"\u001b[39m\u001b[38;5;124mSeries.\u001b[39m\u001b[38;5;132;01m{\u001b[39;00mname\u001b[38;5;132;01m}\u001b[39;00m\u001b[38;5;124m does not allow \u001b[39m\u001b[38;5;132;01m{\u001b[39;00mkwd_name\u001b[38;5;132;01m}\u001b[39;00m\u001b[38;5;124m=\u001b[39m\u001b[38;5;132;01m{\u001b[39;00mnumeric_only\u001b[38;5;132;01m}\u001b[39;00m\u001b[38;5;124m \u001b[39m\u001b[38;5;124m\"\u001b[39m\n\u001b[0;32m   4667\u001b[0m         \u001b[38;5;124m\"\u001b[39m\u001b[38;5;124mwith non-numeric dtypes.\u001b[39m\u001b[38;5;124m\"\u001b[39m\n\u001b[0;32m   4668\u001b[0m     )\n\u001b[0;32m   4669\u001b[0m \u001b[38;5;28;01mwith\u001b[39;00m np\u001b[38;5;241m.\u001b[39merrstate(\u001b[38;5;28mall\u001b[39m\u001b[38;5;241m=\u001b[39m\u001b[38;5;124m\"\u001b[39m\u001b[38;5;124mignore\u001b[39m\u001b[38;5;124m\"\u001b[39m):\n\u001b[1;32m-> 4670\u001b[0m     \u001b[38;5;28;01mreturn\u001b[39;00m op(delegate, skipna\u001b[38;5;241m=\u001b[39mskipna, \u001b[38;5;241m*\u001b[39m\u001b[38;5;241m*\u001b[39mkwds)\n",
      "File \u001b[1;32mc:\\Users\\Isaac\\anaconda3\\Lib\\site-packages\\pandas\\core\\nanops.py:96\u001b[0m, in \u001b[0;36mdisallow.__call__.<locals>._f\u001b[1;34m(*args, **kwargs)\u001b[0m\n\u001b[0;32m     94\u001b[0m \u001b[38;5;28;01mtry\u001b[39;00m:\n\u001b[0;32m     95\u001b[0m     \u001b[38;5;28;01mwith\u001b[39;00m np\u001b[38;5;241m.\u001b[39merrstate(invalid\u001b[38;5;241m=\u001b[39m\u001b[38;5;124m\"\u001b[39m\u001b[38;5;124mignore\u001b[39m\u001b[38;5;124m\"\u001b[39m):\n\u001b[1;32m---> 96\u001b[0m         \u001b[38;5;28;01mreturn\u001b[39;00m f(\u001b[38;5;241m*\u001b[39margs, \u001b[38;5;241m*\u001b[39m\u001b[38;5;241m*\u001b[39mkwargs)\n\u001b[0;32m     97\u001b[0m \u001b[38;5;28;01mexcept\u001b[39;00m \u001b[38;5;167;01mValueError\u001b[39;00m \u001b[38;5;28;01mas\u001b[39;00m e:\n\u001b[0;32m     98\u001b[0m     \u001b[38;5;66;03m# we want to transform an object array\u001b[39;00m\n\u001b[0;32m     99\u001b[0m     \u001b[38;5;66;03m# ValueError message to the more typical TypeError\u001b[39;00m\n\u001b[0;32m    100\u001b[0m     \u001b[38;5;66;03m# e.g. this is normally a disallowed function on\u001b[39;00m\n\u001b[0;32m    101\u001b[0m     \u001b[38;5;66;03m# object arrays that contain strings\u001b[39;00m\n\u001b[0;32m    102\u001b[0m     \u001b[38;5;28;01mif\u001b[39;00m is_object_dtype(args[\u001b[38;5;241m0\u001b[39m]):\n",
      "File \u001b[1;32mc:\\Users\\Isaac\\anaconda3\\Lib\\site-packages\\pandas\\core\\nanops.py:158\u001b[0m, in \u001b[0;36mbottleneck_switch.__call__.<locals>.f\u001b[1;34m(values, axis, skipna, **kwds)\u001b[0m\n\u001b[0;32m    156\u001b[0m         result \u001b[38;5;241m=\u001b[39m alt(values, axis\u001b[38;5;241m=\u001b[39maxis, skipna\u001b[38;5;241m=\u001b[39mskipna, \u001b[38;5;241m*\u001b[39m\u001b[38;5;241m*\u001b[39mkwds)\n\u001b[0;32m    157\u001b[0m \u001b[38;5;28;01melse\u001b[39;00m:\n\u001b[1;32m--> 158\u001b[0m     result \u001b[38;5;241m=\u001b[39m alt(values, axis\u001b[38;5;241m=\u001b[39maxis, skipna\u001b[38;5;241m=\u001b[39mskipna, \u001b[38;5;241m*\u001b[39m\u001b[38;5;241m*\u001b[39mkwds)\n\u001b[0;32m    160\u001b[0m \u001b[38;5;28;01mreturn\u001b[39;00m result\n",
      "File \u001b[1;32mc:\\Users\\Isaac\\anaconda3\\Lib\\site-packages\\pandas\\core\\nanops.py:421\u001b[0m, in \u001b[0;36m_datetimelike_compat.<locals>.new_func\u001b[1;34m(values, axis, skipna, mask, **kwargs)\u001b[0m\n\u001b[0;32m    418\u001b[0m \u001b[38;5;28;01mif\u001b[39;00m datetimelike \u001b[38;5;129;01mand\u001b[39;00m mask \u001b[38;5;129;01mis\u001b[39;00m \u001b[38;5;28;01mNone\u001b[39;00m:\n\u001b[0;32m    419\u001b[0m     mask \u001b[38;5;241m=\u001b[39m isna(values)\n\u001b[1;32m--> 421\u001b[0m result \u001b[38;5;241m=\u001b[39m func(values, axis\u001b[38;5;241m=\u001b[39maxis, skipna\u001b[38;5;241m=\u001b[39mskipna, mask\u001b[38;5;241m=\u001b[39mmask, \u001b[38;5;241m*\u001b[39m\u001b[38;5;241m*\u001b[39mkwargs)\n\u001b[0;32m    423\u001b[0m \u001b[38;5;28;01mif\u001b[39;00m datetimelike:\n\u001b[0;32m    424\u001b[0m     result \u001b[38;5;241m=\u001b[39m _wrap_results(result, orig_values\u001b[38;5;241m.\u001b[39mdtype, fill_value\u001b[38;5;241m=\u001b[39miNaT)\n",
      "File \u001b[1;32mc:\\Users\\Isaac\\anaconda3\\Lib\\site-packages\\pandas\\core\\nanops.py:727\u001b[0m, in \u001b[0;36mnanmean\u001b[1;34m(values, axis, skipna, mask)\u001b[0m\n\u001b[0;32m    724\u001b[0m     dtype_count \u001b[38;5;241m=\u001b[39m dtype\n\u001b[0;32m    726\u001b[0m count \u001b[38;5;241m=\u001b[39m _get_counts(values\u001b[38;5;241m.\u001b[39mshape, mask, axis, dtype\u001b[38;5;241m=\u001b[39mdtype_count)\n\u001b[1;32m--> 727\u001b[0m the_sum \u001b[38;5;241m=\u001b[39m _ensure_numeric(values\u001b[38;5;241m.\u001b[39msum(axis, dtype\u001b[38;5;241m=\u001b[39mdtype_sum))\n\u001b[0;32m    729\u001b[0m \u001b[38;5;28;01mif\u001b[39;00m axis \u001b[38;5;129;01mis\u001b[39;00m \u001b[38;5;129;01mnot\u001b[39;00m \u001b[38;5;28;01mNone\u001b[39;00m \u001b[38;5;129;01mand\u001b[39;00m \u001b[38;5;28mgetattr\u001b[39m(the_sum, \u001b[38;5;124m\"\u001b[39m\u001b[38;5;124mndim\u001b[39m\u001b[38;5;124m\"\u001b[39m, \u001b[38;5;28;01mFalse\u001b[39;00m):\n\u001b[0;32m    730\u001b[0m     count \u001b[38;5;241m=\u001b[39m cast(np\u001b[38;5;241m.\u001b[39mndarray, count)\n",
      "File \u001b[1;32mc:\\Users\\Isaac\\anaconda3\\Lib\\site-packages\\pandas\\core\\nanops.py:1699\u001b[0m, in \u001b[0;36m_ensure_numeric\u001b[1;34m(x)\u001b[0m\n\u001b[0;32m   1696\u001b[0m             x \u001b[38;5;241m=\u001b[39m \u001b[38;5;28mcomplex\u001b[39m(x)\n\u001b[0;32m   1697\u001b[0m         \u001b[38;5;28;01mexcept\u001b[39;00m \u001b[38;5;167;01mValueError\u001b[39;00m \u001b[38;5;28;01mas\u001b[39;00m err:\n\u001b[0;32m   1698\u001b[0m             \u001b[38;5;66;03m# e.g. \"foo\"\u001b[39;00m\n\u001b[1;32m-> 1699\u001b[0m             \u001b[38;5;28;01mraise\u001b[39;00m \u001b[38;5;167;01mTypeError\u001b[39;00m(\u001b[38;5;124mf\u001b[39m\u001b[38;5;124m\"\u001b[39m\u001b[38;5;124mCould not convert \u001b[39m\u001b[38;5;132;01m{\u001b[39;00mx\u001b[38;5;132;01m}\u001b[39;00m\u001b[38;5;124m to numeric\u001b[39m\u001b[38;5;124m\"\u001b[39m) \u001b[38;5;28;01mfrom\u001b[39;00m \u001b[38;5;21;01merr\u001b[39;00m\n\u001b[0;32m   1700\u001b[0m \u001b[38;5;28;01mreturn\u001b[39;00m x\n",
      "\u001b[1;31mTypeError\u001b[0m: Could not convert temp0.3441670.3634780.1963640.20.2269570.2043480.1965220.1650.1383330.1508330.1690910.1727270.1650.160870.2333330.2316670.1758330.2166670.2921740.2616670.17750.05913040.09652170.09739130.2234780.21750.1950.2034780.1965220.2165220.1808330.1921740.260.1869570.2113040.2333330.2858330.2716670.2208330.1347830.1443480.1890910.22250.3165220.4150.2660870.3182610.4358330.5216670.3991670.2852170.3033330.1822220.2217390.2956520.3643480.28250.3434780.4072730.2666670.3350.1983330.2616670.3841670.3765220.2617390.29250.2958330.3890910.3165220.3291670.3843480.3252170.3173910.3652170.4150.540.47250.33250.4304350.4416670.3469570.2850.2641670.2658330.2530430.2643480.30250.30.2683330.30.3150.3783330.5733330.4141670.3908330.43750.3358330.34250.4266670.5956520.50250.41250.46750.4466670.4308330.4566670.51250.5058330.5950.4591670.3366670.460.5816670.6066670.6316670.620.61750.510.47250.4516670.5491670.6166670.4141670.4591670.4791670.520.5283330.53250.53250.54250.5350.51250.5208330.56250.57750.5616670.550.5308330.5366670.60250.6041670.6316670.660.6608330.7083330.6816670.6558330.66750.7333330.7750.7641670.7150.620.6350.6483330.6783330.70750.7758330.8083330.7550.7250.69250.6350.6041670.6266670.6283330.6491670.6966670.6991670.6350.6808330.7333330.7283330.7241670.6950.680.68250.7441670.7283330.6966670.72250.7383330.7166670.7266670.7466670.720.750.7091670.7333330.74750.76250.7941670.7466670.6808330.6633330.6866670.7191670.7466670.7766670.7683330.8150.8483330.8491670.830.7433330.7716670.7750.7791670.8383330.8041670.8058330.7716670.7833330.7316670.710.7108330.7166670.74250.7650.7750.7666670.71750.7083330.6858330.6766670.6658330.7008330.7233330.7116670.6850.69750.7108330.6916670.6408330.6733330.6841670.70.680.7070590.6366670.6391670.6566670.6550.6433330.6691670.7091670.6733330.540.5991670.6339130.650.660.6533330.6443480.6508330.6733330.57750.4691670.4916670.50750.5491670.5616670.5950.6283330.6091670.6066670.6341670.6491670.6366670.6350.6166670.5641670.410.3566670.3841670.4841670.5383330.4941670.5108330.5216670.5408330.5708330.5666670.5433330.5891670.5508330.5066670.5116670.5341670.53250.5417390.4758330.42750.42250.4216670.4633330.4716670.4841670.470.3308330.2541670.3191670.340.4008330.37750.4083330.4033330.3266670.3483330.3950.4083330.40.380.3241670.3566670.4408330.530.530.4566670.3416670.2741670.3291670.4633330.44750.4166670.4408330.3733330.3750.3758330.4591670.5034780.4583330.3250.31250.3141670.2991670.3308330.3858330.46250.410.2658330.2908330.2750.2208330.2383330.28250.31750.42250.3750.2583330.2383330.2766670.3858330.4283330.4233330.3733330.30250.2747830.3217390.3250.299130.2483330.3116670.410.370.2730430.150.10750.2658330.3341670.3933330.33750.2241670.3086960.2741670.38250.2741670.180.1666670.190.3730430.3033330.190.21750.1733330.16250.2183330.34250.2941670.3416670.4250.3158330.28250.2691670.390.4691670.3991670.3133330.2641670.2658330.2826090.3541670.2566670.2650.2808330.2241670.12750.22250.3191670.3483330.3166670.3433330.3466670.280.280.2878260.3958330.4541670.40750.2908330.2791670.3666670.3591670.3443480.4858330.3533330.4141670.3258330.2433330.2583330.4041670.52750.4108330.28750.3617390.4666670.5650.57250.55750.4358330.5141670.47250.5450.5608330.5316670.5541670.6016670.50250.43750.4458330.3233330.4841670.4941670.370.4241670.4258330.4339130.4666670.5416670.4350.4033330.43750.50.4891670.4466670.3486960.39750.44250.4950.6066670.6641670.6083330.4633330.4983330.5266670.570.3966670.3216670.4133330.4766670.4983330.45750.3766670.4583330.4641670.6133330.5641670.560.62750.6216670.56250.53750.5816670.5750.5058330.5333330.5641670.61250.5733330.6116670.6366670.5933330.5641670.60.6208330.5983330.6150.6216670.6550.680.69250.690.71250.72250.6566670.680.6541670.5833330.60250.59750.5408330.5541670.60250.6491670.7108330.7266670.7208330.6533330.6558330.6483330.6391670.6316670.59250.5683330.6883330.78250.8058330.77750.7316670.7433330.7158330.6308330.69750.7491670.8341670.7650.8158330.7816670.7808330.7891670.82750.8283330.8616670.82250.7108330.7208330.7166670.7158330.7316670.7033330.7458330.7633330.8183330.7933330.770.6658330.5958330.66750.7416670.7508330.7241670.7766670.7816670.7558330.7216670.7308330.7133330.71750.75250.7658330.7933330.7691670.75250.7358330.750.7558330.7158330.69250.7008330.7208330.7266670.7066670.7191670.7233330.6783330.6358330.6358330.6491670.66750.6958330.70250.6616670.6533330.7033330.7283330.6850.7066670.7641670.7533330.6966670.70750.7258330.7366670.6966670.7033330.6591670.610.5833330.57750.5991670.61250.6333330.6083330.580.5808330.6233330.55250.5466670.5991670.650.5291670.5141670.550.6350.650.6191670.54250.5266670.5208330.5908330.65750.65750.6150.5541670.4158330.3833330.4466670.5141670.4350.43750.3933330.5216670.5616670.4683330.4558330.52250.5633330.4841670.4641670.48750.5441670.58750.550.5458330.530.47750.440.3181820.35750.3658330.3550.3433330.3258330.3191670.2808330.2958330.3521740.3616670.3891670.4208330.4850.3433330.2891670.3216670.3450.3250.34250.3808330.3741670.3533330.340.3683330.2783330.2458330.3133330.2916670.2966670.280870.2983330.2983330.34750.45250.4758330.4383330.2558330.3208330.3816670.3841670.4358330.3533330.29750.2958330.2816670.3241670.36250.3933330.4108330.33250.330.3266670.2658330.2458330.2313040.2913040.2433330.2541670.2533330.2533330.2558330.215833 to numeric"
     ]
    }
   ],
   "source": [
    "mean_value = bikes['temp'].mean()\n",
    "filtered_dataframe = bikes[ bikes['temp'] > mean_value ]\n",
    "row_count = len(filtered_dataframe)\n",
    "\n",
    "print(row_count)"
   ]
  },
  {
   "cell_type": "markdown",
   "metadata": {},
   "source": [
    "## Numpy\n",
    "\n",
    "We now use Numpy for doing some mathematical calculation on the dataset."
   ]
  },
  {
   "cell_type": "markdown",
   "metadata": {},
   "source": [
    "**Q6:** Now, use numpy for working with below tasks\n",
    "1. At first convert the dataframe into a numpy array\n",
    "2. Print the shape of the numpy n-dimensional array\n",
    "3. select and print rows from *100 to 105*\n",
    "\n",
    "**A6:**\n",
    "Replace the ? mark with your answer"
   ]
  },
  {
   "cell_type": "code",
   "execution_count": null,
   "metadata": {},
   "outputs": [
    {
     "name": "stdout",
     "output_type": "stream",
     "text": [
      "(732, 16)\n",
      "[['100' '2011-04-10' '2' '0' '4' '0' '0' '0' '2' '0.426667' '0.426737'\n",
      "  '0.8575' '0.146767' '1188' '1707' '2895']\n",
      " ['101' '2011-04-11' '2' '0' '4' '0' '1' '1' '2' '0.595652' '0.565217'\n",
      "  '0.716956' '0.324474' '855' '2493' '3348']\n",
      " ['102' '2011-04-12' '2' '0' '4' '0' '2' '1' '2' '0.5025' '0.493054'\n",
      "  '0.739167' '0.274879' '257' '1777' '2034']\n",
      " ['103' '2011-04-13' '2' '0' '4' '0' '3' '1' '2' '0.4125' '0.417283'\n",
      "  '0.819167' '0.250617' '209' '1953' '2162']\n",
      " ['104' '2011-04-14' '2' '0' '4' '0' '4' '1' '1' '0.4675' '0.462742'\n",
      "  '0.540417' '0.1107' '529' '2738' '3267']\n",
      " ['105' '2011-04-15' '2' '0' '4' '1' '5' '0' '1' '0.446667' '0.441913'\n",
      "  '0.67125' '0.226375' '642' '2484' '3126']]\n"
     ]
    }
   ],
   "source": [
    "num_array = bikes.to_numpy() # conver the dataframe\n",
    "print( num_array.shape ) #print the shape\n",
    "print( num_array[100:106] ) # print rows from 100 to 105"
   ]
  },
  {
   "cell_type": "markdown",
   "metadata": {},
   "source": [
    "**Q7:** Lets put it all together\n",
    "1. Create a new numpy array selecting column number  10 - 13.\n",
    "2. Sort the numpy array in ascending order based on the 2nd column of our new numpy array.\n",
    "3. Print first 5 rows of the sorted numpy array\n",
    "\n",
    "**A7:**\n",
    "Replace the ? mark with your answer in the cell below"
   ]
  },
  {
   "cell_type": "code",
   "execution_count": 93,
   "metadata": {},
   "outputs": [
    {
     "name": "stdout",
     "output_type": "stream",
     "text": [
      "[['0.385668' '0' '0.261877' '46']\n",
      " ['0.391404' '0.187917' '0.507463' '532']\n",
      " ['0.426129' '0.254167' '0.274871' '3252']\n",
      " ['0.492425' '0.275833' '0.232596' '2230']\n",
      " ['0.315654' '0.29' '0.187192' '531']]\n"
     ]
    }
   ],
   "source": [
    "new_array = num_array[:,10:14] #[row:row, col:col]\n",
    "\n",
    "sorted_array = new_array[ new_array[:, 1].argsort() ]\n",
    "\n",
    "print( sorted_array[0:5, :] )"
   ]
  },
  {
   "cell_type": "markdown",
   "metadata": {},
   "source": [
    "## Seaborn Plotting 1\n",
    "\n",
    "Seaborn package is used to plot the data.  For every question in this chapter use the **bikes dataframe** for answering the questions."
   ]
  },
  {
   "cell_type": "markdown",
   "metadata": {},
   "source": [
    "**Q8:**\n",
    "Make a bar plot showing the mean number of riders (y-axis) per weekday (x-axis) using seaborn [`catplot`](https://seaborn.pydata.org/generated/seaborn.catplot.html) method.\n",
    "\n",
    "**A8:**\n",
    "Replace the ? mark with your answer"
   ]
  },
  {
   "cell_type": "code",
   "execution_count": 98,
   "metadata": {},
   "outputs": [
    {
     "ename": "ValueError",
     "evalue": "Could not interpret value `weekday` for parameter `x`",
     "output_type": "error",
     "traceback": [
      "\u001b[1;31m---------------------------------------------------------------------------\u001b[0m",
      "\u001b[1;31mValueError\u001b[0m                                Traceback (most recent call last)",
      "Cell \u001b[1;32mIn[98], line 1\u001b[0m\n\u001b[1;32m----> 1\u001b[0m mean_riders \u001b[38;5;241m=\u001b[39m sns\u001b[38;5;241m.\u001b[39mcatplot( bikes, x \u001b[38;5;241m=\u001b[39m \u001b[38;5;124m'\u001b[39m\u001b[38;5;124mweekday\u001b[39m\u001b[38;5;124m'\u001b[39m, y \u001b[38;5;241m=\u001b[39m \u001b[38;5;124m'\u001b[39m\u001b[38;5;124mriders\u001b[39m\u001b[38;5;124m'\u001b[39m )\n",
      "File \u001b[1;32mc:\\Users\\Isaac\\anaconda3\\Lib\\site-packages\\seaborn\\categorical.py:3031\u001b[0m, in \u001b[0;36mcatplot\u001b[1;34m(data, x, y, hue, row, col, col_wrap, estimator, errorbar, n_boot, units, seed, order, hue_order, row_order, col_order, height, aspect, kind, native_scale, formatter, orient, color, palette, hue_norm, legend, legend_out, sharex, sharey, margin_titles, facet_kws, ci, **kwargs)\u001b[0m\n\u001b[0;32m   3028\u001b[0m refactored_kinds \u001b[38;5;241m=\u001b[39m [\u001b[38;5;124m\"\u001b[39m\u001b[38;5;124mstrip\u001b[39m\u001b[38;5;124m\"\u001b[39m, \u001b[38;5;124m\"\u001b[39m\u001b[38;5;124mswarm\u001b[39m\u001b[38;5;124m\"\u001b[39m]\n\u001b[0;32m   3029\u001b[0m \u001b[38;5;28;01mif\u001b[39;00m kind \u001b[38;5;129;01min\u001b[39;00m refactored_kinds:\n\u001b[1;32m-> 3031\u001b[0m     p \u001b[38;5;241m=\u001b[39m _CategoricalFacetPlotter(\n\u001b[0;32m   3032\u001b[0m         data\u001b[38;5;241m=\u001b[39mdata,\n\u001b[0;32m   3033\u001b[0m         variables\u001b[38;5;241m=\u001b[39m_CategoricalFacetPlotter\u001b[38;5;241m.\u001b[39mget_semantics(\u001b[38;5;28mlocals\u001b[39m()),\n\u001b[0;32m   3034\u001b[0m         order\u001b[38;5;241m=\u001b[39morder,\n\u001b[0;32m   3035\u001b[0m         orient\u001b[38;5;241m=\u001b[39morient,\n\u001b[0;32m   3036\u001b[0m         require_numeric\u001b[38;5;241m=\u001b[39m\u001b[38;5;28;01mFalse\u001b[39;00m,\n\u001b[0;32m   3037\u001b[0m         legend\u001b[38;5;241m=\u001b[39mlegend,\n\u001b[0;32m   3038\u001b[0m     )\n\u001b[0;32m   3040\u001b[0m     \u001b[38;5;66;03m# XXX Copying a fair amount from displot, which is not ideal\u001b[39;00m\n\u001b[0;32m   3042\u001b[0m     \u001b[38;5;28;01mfor\u001b[39;00m var \u001b[38;5;129;01min\u001b[39;00m [\u001b[38;5;124m\"\u001b[39m\u001b[38;5;124mrow\u001b[39m\u001b[38;5;124m\"\u001b[39m, \u001b[38;5;124m\"\u001b[39m\u001b[38;5;124mcol\u001b[39m\u001b[38;5;124m\"\u001b[39m]:\n\u001b[0;32m   3043\u001b[0m         \u001b[38;5;66;03m# Handle faceting variables that lack name information\u001b[39;00m\n",
      "File \u001b[1;32mc:\\Users\\Isaac\\anaconda3\\Lib\\site-packages\\seaborn\\categorical.py:66\u001b[0m, in \u001b[0;36m_CategoricalPlotterNew.__init__\u001b[1;34m(self, data, variables, order, orient, require_numeric, legend)\u001b[0m\n\u001b[0;32m     56\u001b[0m \u001b[38;5;28;01mdef\u001b[39;00m \u001b[38;5;21m__init__\u001b[39m(\n\u001b[0;32m     57\u001b[0m     \u001b[38;5;28mself\u001b[39m,\n\u001b[0;32m     58\u001b[0m     data\u001b[38;5;241m=\u001b[39m\u001b[38;5;28;01mNone\u001b[39;00m,\n\u001b[1;32m   (...)\u001b[0m\n\u001b[0;32m     63\u001b[0m     legend\u001b[38;5;241m=\u001b[39m\u001b[38;5;124m\"\u001b[39m\u001b[38;5;124mauto\u001b[39m\u001b[38;5;124m\"\u001b[39m,\n\u001b[0;32m     64\u001b[0m ):\n\u001b[1;32m---> 66\u001b[0m     \u001b[38;5;28msuper\u001b[39m()\u001b[38;5;241m.\u001b[39m\u001b[38;5;21m__init__\u001b[39m(data\u001b[38;5;241m=\u001b[39mdata, variables\u001b[38;5;241m=\u001b[39mvariables)\n\u001b[0;32m     68\u001b[0m     \u001b[38;5;66;03m# This method takes care of some bookkeeping that is necessary because the\u001b[39;00m\n\u001b[0;32m     69\u001b[0m     \u001b[38;5;66;03m# original categorical plots (prior to the 2021 refactor) had some rules that\u001b[39;00m\n\u001b[0;32m     70\u001b[0m     \u001b[38;5;66;03m# don't fit exactly into the logic of _core. It may be wise to have a second\u001b[39;00m\n\u001b[1;32m   (...)\u001b[0m\n\u001b[0;32m     75\u001b[0m     \u001b[38;5;66;03m# wide_structure rules in _core. If we do decide to make orient part of the\u001b[39;00m\n\u001b[0;32m     76\u001b[0m     \u001b[38;5;66;03m# _core variable assignment, we'll want to figure out how to express that.\u001b[39;00m\n\u001b[0;32m     77\u001b[0m     \u001b[38;5;28;01mif\u001b[39;00m \u001b[38;5;28mself\u001b[39m\u001b[38;5;241m.\u001b[39minput_format \u001b[38;5;241m==\u001b[39m \u001b[38;5;124m\"\u001b[39m\u001b[38;5;124mwide\u001b[39m\u001b[38;5;124m\"\u001b[39m \u001b[38;5;129;01mand\u001b[39;00m orient \u001b[38;5;241m==\u001b[39m \u001b[38;5;124m\"\u001b[39m\u001b[38;5;124mh\u001b[39m\u001b[38;5;124m\"\u001b[39m:\n",
      "File \u001b[1;32mc:\\Users\\Isaac\\anaconda3\\Lib\\site-packages\\seaborn\\_oldcore.py:640\u001b[0m, in \u001b[0;36mVectorPlotter.__init__\u001b[1;34m(self, data, variables)\u001b[0m\n\u001b[0;32m    635\u001b[0m \u001b[38;5;66;03m# var_ordered is relevant only for categorical axis variables, and may\u001b[39;00m\n\u001b[0;32m    636\u001b[0m \u001b[38;5;66;03m# be better handled by an internal axis information object that tracks\u001b[39;00m\n\u001b[0;32m    637\u001b[0m \u001b[38;5;66;03m# such information and is set up by the scale_* methods. The analogous\u001b[39;00m\n\u001b[0;32m    638\u001b[0m \u001b[38;5;66;03m# information for numeric axes would be information about log scales.\u001b[39;00m\n\u001b[0;32m    639\u001b[0m \u001b[38;5;28mself\u001b[39m\u001b[38;5;241m.\u001b[39m_var_ordered \u001b[38;5;241m=\u001b[39m {\u001b[38;5;124m\"\u001b[39m\u001b[38;5;124mx\u001b[39m\u001b[38;5;124m\"\u001b[39m: \u001b[38;5;28;01mFalse\u001b[39;00m, \u001b[38;5;124m\"\u001b[39m\u001b[38;5;124my\u001b[39m\u001b[38;5;124m\"\u001b[39m: \u001b[38;5;28;01mFalse\u001b[39;00m}  \u001b[38;5;66;03m# alt., used DefaultDict\u001b[39;00m\n\u001b[1;32m--> 640\u001b[0m \u001b[38;5;28mself\u001b[39m\u001b[38;5;241m.\u001b[39massign_variables(data, variables)\n\u001b[0;32m    642\u001b[0m \u001b[38;5;28;01mfor\u001b[39;00m var, \u001b[38;5;28mcls\u001b[39m \u001b[38;5;129;01min\u001b[39;00m \u001b[38;5;28mself\u001b[39m\u001b[38;5;241m.\u001b[39m_semantic_mappings\u001b[38;5;241m.\u001b[39mitems():\n\u001b[0;32m    643\u001b[0m \n\u001b[0;32m    644\u001b[0m     \u001b[38;5;66;03m# Create the mapping function\u001b[39;00m\n\u001b[0;32m    645\u001b[0m     map_func \u001b[38;5;241m=\u001b[39m partial(\u001b[38;5;28mcls\u001b[39m\u001b[38;5;241m.\u001b[39mmap, plotter\u001b[38;5;241m=\u001b[39m\u001b[38;5;28mself\u001b[39m)\n",
      "File \u001b[1;32mc:\\Users\\Isaac\\anaconda3\\Lib\\site-packages\\seaborn\\_oldcore.py:701\u001b[0m, in \u001b[0;36mVectorPlotter.assign_variables\u001b[1;34m(self, data, variables)\u001b[0m\n\u001b[0;32m    699\u001b[0m \u001b[38;5;28;01melse\u001b[39;00m:\n\u001b[0;32m    700\u001b[0m     \u001b[38;5;28mself\u001b[39m\u001b[38;5;241m.\u001b[39minput_format \u001b[38;5;241m=\u001b[39m \u001b[38;5;124m\"\u001b[39m\u001b[38;5;124mlong\u001b[39m\u001b[38;5;124m\"\u001b[39m\n\u001b[1;32m--> 701\u001b[0m     plot_data, variables \u001b[38;5;241m=\u001b[39m \u001b[38;5;28mself\u001b[39m\u001b[38;5;241m.\u001b[39m_assign_variables_longform(\n\u001b[0;32m    702\u001b[0m         data, \u001b[38;5;241m*\u001b[39m\u001b[38;5;241m*\u001b[39mvariables,\n\u001b[0;32m    703\u001b[0m     )\n\u001b[0;32m    705\u001b[0m \u001b[38;5;28mself\u001b[39m\u001b[38;5;241m.\u001b[39mplot_data \u001b[38;5;241m=\u001b[39m plot_data\n\u001b[0;32m    706\u001b[0m \u001b[38;5;28mself\u001b[39m\u001b[38;5;241m.\u001b[39mvariables \u001b[38;5;241m=\u001b[39m variables\n",
      "File \u001b[1;32mc:\\Users\\Isaac\\anaconda3\\Lib\\site-packages\\seaborn\\_oldcore.py:938\u001b[0m, in \u001b[0;36mVectorPlotter._assign_variables_longform\u001b[1;34m(self, data, **kwargs)\u001b[0m\n\u001b[0;32m    933\u001b[0m \u001b[38;5;28;01melif\u001b[39;00m \u001b[38;5;28misinstance\u001b[39m(val, (\u001b[38;5;28mstr\u001b[39m, \u001b[38;5;28mbytes\u001b[39m)):\n\u001b[0;32m    934\u001b[0m \n\u001b[0;32m    935\u001b[0m     \u001b[38;5;66;03m# This looks like a column name but we don't know what it means!\u001b[39;00m\n\u001b[0;32m    937\u001b[0m     err \u001b[38;5;241m=\u001b[39m \u001b[38;5;124mf\u001b[39m\u001b[38;5;124m\"\u001b[39m\u001b[38;5;124mCould not interpret value `\u001b[39m\u001b[38;5;132;01m{\u001b[39;00mval\u001b[38;5;132;01m}\u001b[39;00m\u001b[38;5;124m` for parameter `\u001b[39m\u001b[38;5;132;01m{\u001b[39;00mkey\u001b[38;5;132;01m}\u001b[39;00m\u001b[38;5;124m`\u001b[39m\u001b[38;5;124m\"\u001b[39m\n\u001b[1;32m--> 938\u001b[0m     \u001b[38;5;28;01mraise\u001b[39;00m \u001b[38;5;167;01mValueError\u001b[39;00m(err)\n\u001b[0;32m    940\u001b[0m \u001b[38;5;28;01melse\u001b[39;00m:\n\u001b[0;32m    941\u001b[0m \n\u001b[0;32m    942\u001b[0m     \u001b[38;5;66;03m# Otherwise, assume the value is itself data\u001b[39;00m\n\u001b[0;32m    943\u001b[0m \n\u001b[0;32m    944\u001b[0m     \u001b[38;5;66;03m# Raise when data object is present and a vector can't matched\u001b[39;00m\n\u001b[0;32m    945\u001b[0m     \u001b[38;5;28;01mif\u001b[39;00m \u001b[38;5;28misinstance\u001b[39m(data, pd\u001b[38;5;241m.\u001b[39mDataFrame) \u001b[38;5;129;01mand\u001b[39;00m \u001b[38;5;129;01mnot\u001b[39;00m \u001b[38;5;28misinstance\u001b[39m(val, pd\u001b[38;5;241m.\u001b[39mSeries):\n",
      "\u001b[1;31mValueError\u001b[0m: Could not interpret value `weekday` for parameter `x`"
     ]
    }
   ],
   "source": [
    "mean_riders = sns.catplot( bikes,  )"
   ]
  },
  {
   "cell_type": "markdown",
   "metadata": {},
   "source": [
    "**Analysis**\n",
    "\n",
    "The X-axis labels are not very helpful as day 0 is not clear. This is a question about how the data is _coded_. We'll talk more about data encoding next week. Unfortunately, the data documentation doesn't actually say how weekdays are coded!  But we can infer from the data in this case: first data point is January 1, 2011, which was a Saturday, coded as weekday 6; it then resets to 0 for the next day, and starts counting up. Often, we will not be able to infer the data encoding from the data itself - we need to consult the codebook or data set description. We got lucky this time.  But looking at the data can help us make sense of the codebook.\n",
    "\n",
    "_Lesson here is to always *look* at your data._"
   ]
  },
  {
   "cell_type": "markdown",
   "metadata": {},
   "source": [
    "**Q9:** Turn these weekday numbers into a _categorical_ variable so Pandas knows how to label them. \n",
    "Hint: use [pandas.Categorical.from_codes()](https://pandas.pydata.org/pandas-docs/stable/reference/api/pandas.Categorical.from_codes.html).\n",
    "\n",
    "**A9:**\n",
    "Replace the ? mark with your answer in the python cell below"
   ]
  },
  {
   "cell_type": "code",
   "execution_count": null,
   "metadata": {},
   "outputs": [
    {
     "ename": "SyntaxError",
     "evalue": "invalid syntax (3895472177.py, line 1)",
     "output_type": "error",
     "traceback": [
      "\u001b[1;36m  Cell \u001b[1;32mIn[96], line 1\u001b[1;36m\u001b[0m\n\u001b[1;33m    codes = pd.CategoricalDtype(?)\u001b[0m\n\u001b[1;37m                                ^\u001b[0m\n\u001b[1;31mSyntaxError\u001b[0m\u001b[1;31m:\u001b[0m invalid syntax\n"
     ]
    }
   ],
   "source": [
    "codes = pd.CategoricalDtype(?)\n",
    "\n",
    "bikes['day_names'] = pd.Categorical.from_codes(?)\n",
    "bikes.head()"
   ]
  },
  {
   "cell_type": "markdown",
   "metadata": {},
   "source": [
    "**A10:** Plot new data using seaborn [`catplot`](https://seaborn.pydata.org/generated/seaborn.catplot.html), where data=bikes, x-axis is `day_names` and y-axis is `cnt`\n",
    "\n",
    "**A10:**\n",
    "Replace the ? mark with your answer in the python cell below"
   ]
  },
  {
   "cell_type": "code",
   "execution_count": null,
   "metadata": {},
   "outputs": [
    {
     "ename": "SyntaxError",
     "evalue": "invalid syntax (Temp/ipykernel_17456/1576165942.py, line 1)",
     "output_type": "error",
     "traceback": [
      "\u001b[1;36m  File \u001b[1;32m\"C:\\Users\\tesic\\AppData\\Local\\Temp/ipykernel_17456/1576165942.py\"\u001b[1;36m, line \u001b[1;32m1\u001b[0m\n\u001b[1;33m    mean_riders = sns.catplot(?)\u001b[0m\n\u001b[1;37m                              ^\u001b[0m\n\u001b[1;31mSyntaxError\u001b[0m\u001b[1;31m:\u001b[0m invalid syntax\n"
     ]
    }
   ],
   "source": [
    "mean_riders = sns.catplot(?)"
   ]
  },
  {
   "cell_type": "markdown",
   "metadata": {},
   "source": [
    "You have now now plotted the average rides per day.  \n",
    "**Note:**  When we do not tell [`catplot`](https://seaborn.pydata.org/generated/seaborn.catplot.html) what to do with multiple points for the same value (in this case the weekday name), it computes the mean and a bootstrapped 95% confidence interval.  "
   ]
  },
  {
   "cell_type": "markdown",
   "metadata": {},
   "source": [
    "## Seaborn Polotting 2: View Data over Time\n",
    "\n",
    "Lets explore how did rides-per-day change over the course of the data set? \n",
    "* This kind of data - a sequence of data points associated with times - is called a *time series*.  \n",
    "* This data set gives us an `instant` column that records the data number since the start of the data set"
   ]
  },
  {
   "cell_type": "markdown",
   "metadata": {},
   "source": [
    "**Q11:**\n",
    "Use [seaborn.lineplot()](https://seaborn.pydata.org/generated/seaborn.lineplot.html) where data=bikes, x-axis is `instant` and y-axis is `cnt` value.\n",
    "\n",
    "**A11:**\n",
    "Replace the ? mark with your answer  in the python cell below"
   ]
  },
  {
   "cell_type": "code",
   "execution_count": null,
   "metadata": {},
   "outputs": [
    {
     "ename": "SyntaxError",
     "evalue": "invalid syntax (Temp/ipykernel_17456/913567343.py, line 1)",
     "output_type": "error",
     "traceback": [
      "\u001b[1;36m  File \u001b[1;32m\"C:\\Users\\tesic\\AppData\\Local\\Temp/ipykernel_17456/913567343.py\"\u001b[1;36m, line \u001b[1;32m1\u001b[0m\n\u001b[1;33m    sns.lineplot(?)\u001b[0m\n\u001b[1;37m                 ^\u001b[0m\n\u001b[1;31mSyntaxError\u001b[0m\u001b[1;31m:\u001b[0m invalid syntax\n"
     ]
    }
   ],
   "source": [
    "sns.lineplot(?)"
   ]
  },
  {
   "cell_type": "markdown",
   "metadata": {},
   "source": [
    "Lets view this graph for actual times on x-axis. The `dteday` column records the date. We can transform `dteday` column to the actual date comlumn using [pandas.to_datetime()](https://pandas.pydata.org/docs/reference/api/pandas.to_datetime.html) method on the column:"
   ]
  },
  {
   "cell_type": "code",
   "execution_count": null,
   "metadata": {},
   "outputs": [
    {
     "ename": "NameError",
     "evalue": "name 'bikes' is not defined",
     "output_type": "error",
     "traceback": [
      "\u001b[1;31m---------------------------------------------------------------------------\u001b[0m",
      "\u001b[1;31mNameError\u001b[0m                                 Traceback (most recent call last)",
      "\u001b[1;32m~\\AppData\\Local\\Temp/ipykernel_17456/281172278.py\u001b[0m in \u001b[0;36m<module>\u001b[1;34m\u001b[0m\n\u001b[1;32m----> 1\u001b[1;33m \u001b[0mbikes\u001b[0m\u001b[1;33m[\u001b[0m\u001b[1;34m'dt'\u001b[0m\u001b[1;33m]\u001b[0m \u001b[1;33m=\u001b[0m \u001b[0mpd\u001b[0m\u001b[1;33m.\u001b[0m\u001b[0mto_datetime\u001b[0m\u001b[1;33m(\u001b[0m\u001b[0mbikes\u001b[0m\u001b[1;33m[\u001b[0m\u001b[1;34m'dteday'\u001b[0m\u001b[1;33m]\u001b[0m\u001b[1;33m)\u001b[0m\u001b[1;33m\u001b[0m\u001b[1;33m\u001b[0m\u001b[0m\n\u001b[0m",
      "\u001b[1;31mNameError\u001b[0m: name 'bikes' is not defined"
     ]
    }
   ],
   "source": [
    "bikes['dt'] = pd.to_datetime(bikes['dteday'])"
   ]
  },
  {
   "cell_type": "markdown",
   "metadata": {},
   "source": [
    "**Q12:**\n",
    "Now create a plot using [seaborn.lineplot()](https://seaborn.pydata.org/generated/seaborn.lineplot.html) where data=bikes, x-axis is `dt` and y-axis is `cnt` value. \n",
    "\n",
    "**A12:** Replace the ? mark with your answer"
   ]
  },
  {
   "cell_type": "code",
   "execution_count": null,
   "metadata": {},
   "outputs": [
    {
     "ename": "SyntaxError",
     "evalue": "invalid syntax (Temp/ipykernel_17456/913567343.py, line 1)",
     "output_type": "error",
     "traceback": [
      "\u001b[1;36m  File \u001b[1;32m\"C:\\Users\\tesic\\AppData\\Local\\Temp/ipykernel_17456/913567343.py\"\u001b[1;36m, line \u001b[1;32m1\u001b[0m\n\u001b[1;33m    sns.lineplot(?)\u001b[0m\n\u001b[1;37m                 ^\u001b[0m\n\u001b[1;31mSyntaxError\u001b[0m\u001b[1;31m:\u001b[0m invalid syntax\n"
     ]
    }
   ],
   "source": [
    "sns.lineplot(?)"
   ]
  },
  {
   "cell_type": "markdown",
   "metadata": {},
   "source": [
    "Next, plot the _weekly_ rides by resampling.  Right now, our `bikes` data is indexed by row number in the CSV file.  We can change its index to another column, such as our `dt` column with the date, which then lets us do things like resample by week:"
   ]
  },
  {
   "cell_type": "code",
   "execution_count": null,
   "metadata": {},
   "outputs": [
    {
     "ename": "NameError",
     "evalue": "name 'bikes' is not defined",
     "output_type": "error",
     "traceback": [
      "\u001b[1;31m---------------------------------------------------------------------------\u001b[0m",
      "\u001b[1;31mNameError\u001b[0m                                 Traceback (most recent call last)",
      "\u001b[1;32m~\\AppData\\Local\\Temp/ipykernel_17456/2181500339.py\u001b[0m in \u001b[0;36m<module>\u001b[1;34m\u001b[0m\n\u001b[1;32m----> 1\u001b[1;33m \u001b[0mbikes\u001b[0m\u001b[1;33m.\u001b[0m\u001b[0mset_index\u001b[0m\u001b[1;33m(\u001b[0m\u001b[1;34m'dt'\u001b[0m\u001b[1;33m)\u001b[0m\u001b[1;33m[\u001b[0m\u001b[1;34m'cnt'\u001b[0m\u001b[1;33m]\u001b[0m\u001b[1;33m.\u001b[0m\u001b[0mresample\u001b[0m\u001b[1;33m(\u001b[0m\u001b[1;34m'1W'\u001b[0m\u001b[1;33m)\u001b[0m\u001b[1;33m.\u001b[0m\u001b[0msum\u001b[0m\u001b[1;33m(\u001b[0m\u001b[1;33m)\u001b[0m\u001b[1;33m.\u001b[0m\u001b[0mplot\u001b[0m\u001b[1;33m(\u001b[0m\u001b[1;33m)\u001b[0m\u001b[1;33m\u001b[0m\u001b[1;33m\u001b[0m\u001b[0m\n\u001b[0m",
      "\u001b[1;31mNameError\u001b[0m: name 'bikes' is not defined"
     ]
    }
   ],
   "source": [
    "bikes.set_index('dt')['cnt'].resample('1W').sum().plot()"
   ]
  },
  {
   "cell_type": "markdown",
   "metadata": {},
   "source": [
    "What that code did, in one line, is:\n",
    "\n",
    "1. Set the data frame's index to `dt` (`bikes.set_index('dt')`), returning a new DF\n",
    "2. Select the count column (`['cnt']`), returning a series\n",
    "3. Resample the series by week (`.resample('1W')`)\n",
    "4. Combine measurements within each sample by summing them (`.sum()`)\n",
    "5. Plotting the results using Pandas' defaults (`.plot()`)\n",
    "\n",
    "Pandas default plotting functions are useful for quick plots to see what's in a data frame or series. They often are difficult to use to turn in to publication-ready charts."
   ]
  },
  {
   "cell_type": "markdown",
   "metadata": {},
   "source": [
    "**Q13:** Save the modified dataframe in csv format using pandas *to_csv()* function. Give the file name as **day_output**\n",
    "\n",
    "**A13:** Replace the ? mark with your answer"
   ]
  },
  {
   "cell_type": "code",
   "execution_count": null,
   "metadata": {},
   "outputs": [
    {
     "ename": "SyntaxError",
     "evalue": "invalid syntax (Temp/ipykernel_17456/3457342399.py, line 1)",
     "output_type": "error",
     "traceback": [
      "\u001b[1;36m  File \u001b[1;32m\"C:\\Users\\tesic\\AppData\\Local\\Temp/ipykernel_17456/3457342399.py\"\u001b[1;36m, line \u001b[1;32m1\u001b[0m\n\u001b[1;33m    bikes.?\u001b[0m\n\u001b[1;37m          ^\u001b[0m\n\u001b[1;31mSyntaxError\u001b[0m\u001b[1;31m:\u001b[0m invalid syntax\n"
     ]
    }
   ],
   "source": [
    "bikes.?"
   ]
  },
  {
   "cell_type": "markdown",
   "metadata": {},
   "source": [
    "## Submission Instructions\n",
    "\n",
    " 1. Run all cells in  `ECpracticeSubmission.ipynb` and make sure there are no errors\n",
    " 2. Print `ECpracticeSubmission.ipynb` to pdf file\n",
    " 3. Create a Folder HW0 and Upload `ECpracticeSubmission.ipynb`, `ECpracticeSubmission.pdf` and `day_output.csv` files to your git repo allocated for this course e.g: https://git.txstate.edu/NetID/netid before the deadline. Make Sure Instructor and TA has access for the repo.\n"
   ]
  }
 ],
 "metadata": {
  "kernelspec": {
   "display_name": "Python 3.8.8 ('base')",
   "language": "python",
   "name": "python3"
  },
  "language_info": {
   "codemirror_mode": {
    "name": "ipython",
    "version": 3
   },
   "file_extension": ".py",
   "mimetype": "text/x-python",
   "name": "python",
   "nbconvert_exporter": "python",
   "pygments_lexer": "ipython3",
   "version": "3.11.5"
  },
  "vscode": {
   "interpreter": {
    "hash": "6e3520c759e5572dcce85a4d2a3287416a08b75cbd9d64f3e9845a08c03ad027"
   }
  }
 },
 "nbformat": 4,
 "nbformat_minor": 2
}
